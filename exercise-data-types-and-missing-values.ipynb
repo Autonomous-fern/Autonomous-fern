{
 "cells": [
  {
   "cell_type": "markdown",
   "id": "118752b3",
   "metadata": {
    "papermill": {
     "duration": 0.005713,
     "end_time": "2022-08-04T14:58:47.813576",
     "exception": false,
     "start_time": "2022-08-04T14:58:47.807863",
     "status": "completed"
    },
    "tags": []
   },
   "source": [
    "**This notebook is an exercise in the [Pandas](https://www.kaggle.com/learn/pandas) course.  You can reference the tutorial at [this link](https://www.kaggle.com/residentmario/data-types-and-missing-values).**\n",
    "\n",
    "---\n"
   ]
  },
  {
   "cell_type": "markdown",
   "id": "4d79ace7",
   "metadata": {
    "papermill": {
     "duration": 0.003877,
     "end_time": "2022-08-04T14:58:47.821975",
     "exception": false,
     "start_time": "2022-08-04T14:58:47.818098",
     "status": "completed"
    },
    "tags": []
   },
   "source": [
    "# Introduction\n",
    "\n",
    "Run the following cell to load your data and some utility functions."
   ]
  },
  {
   "cell_type": "code",
   "execution_count": 1,
   "id": "e80b608a",
   "metadata": {
    "execution": {
     "iopub.execute_input": "2022-08-04T14:58:47.832708Z",
     "iopub.status.busy": "2022-08-04T14:58:47.831939Z",
     "iopub.status.idle": "2022-08-04T14:58:50.710749Z",
     "shell.execute_reply": "2022-08-04T14:58:50.709593Z"
    },
    "papermill": {
     "duration": 2.887377,
     "end_time": "2022-08-04T14:58:50.713440",
     "exception": false,
     "start_time": "2022-08-04T14:58:47.826063",
     "status": "completed"
    },
    "tags": []
   },
   "outputs": [
    {
     "name": "stdout",
     "output_type": "stream",
     "text": [
      "Setup complete.\n"
     ]
    }
   ],
   "source": [
    "import pandas as pd\n",
    "\n",
    "reviews = pd.read_csv(\"../input/wine-reviews/winemag-data-130k-v2.csv\", index_col=0)\n",
    "\n",
    "from learntools.core import binder; binder.bind(globals())\n",
    "from learntools.pandas.data_types_and_missing_data import *\n",
    "print(\"Setup complete.\")"
   ]
  },
  {
   "cell_type": "markdown",
   "id": "deab06ac",
   "metadata": {
    "papermill": {
     "duration": 0.00393,
     "end_time": "2022-08-04T14:58:50.721904",
     "exception": false,
     "start_time": "2022-08-04T14:58:50.717974",
     "status": "completed"
    },
    "tags": []
   },
   "source": [
    "# Exercises"
   ]
  },
  {
   "cell_type": "markdown",
   "id": "f8912936",
   "metadata": {
    "papermill": {
     "duration": 0.003776,
     "end_time": "2022-08-04T14:58:50.729696",
     "exception": false,
     "start_time": "2022-08-04T14:58:50.725920",
     "status": "completed"
    },
    "tags": []
   },
   "source": [
    "## 1. \n",
    "What is the data type of the `points` column in the dataset?"
   ]
  },
  {
   "cell_type": "code",
   "execution_count": 2,
   "id": "a5c02fa9",
   "metadata": {
    "execution": {
     "iopub.execute_input": "2022-08-04T14:58:50.739631Z",
     "iopub.status.busy": "2022-08-04T14:58:50.739215Z",
     "iopub.status.idle": "2022-08-04T14:58:50.750322Z",
     "shell.execute_reply": "2022-08-04T14:58:50.749380Z"
    },
    "papermill": {
     "duration": 0.020875,
     "end_time": "2022-08-04T14:58:50.754684",
     "exception": false,
     "start_time": "2022-08-04T14:58:50.733809",
     "status": "completed"
    },
    "tags": []
   },
   "outputs": [
    {
     "data": {
      "application/javascript": [
       "parent.postMessage({\"jupyterEvent\": \"custom.exercise_interaction\", \"data\": {\"outcomeType\": 1, \"valueTowardsCompletion\": 0.25, \"interactionType\": 1, \"questionType\": 1, \"questionId\": \"1_PointsDtype\", \"learnToolsVersion\": \"0.3.4\", \"failureMessage\": \"\", \"exceptionClass\": \"\", \"trace\": \"\"}}, \"*\")"
      ],
      "text/plain": [
       "<IPython.core.display.Javascript object>"
      ]
     },
     "metadata": {},
     "output_type": "display_data"
    },
    {
     "data": {
      "text/markdown": [
       "<span style=\"color:#33cc33\">Correct</span>"
      ],
      "text/plain": [
       "Correct"
      ]
     },
     "metadata": {},
     "output_type": "display_data"
    }
   ],
   "source": [
    "# Your code here\n",
    "dtype = reviews.points.dtype\n",
    "\n",
    "# Check your answer\n",
    "q1.check()"
   ]
  },
  {
   "cell_type": "code",
   "execution_count": 3,
   "id": "02515dfe",
   "metadata": {
    "execution": {
     "iopub.execute_input": "2022-08-04T14:58:50.765296Z",
     "iopub.status.busy": "2022-08-04T14:58:50.764916Z",
     "iopub.status.idle": "2022-08-04T14:58:50.773264Z",
     "shell.execute_reply": "2022-08-04T14:58:50.772380Z"
    },
    "papermill": {
     "duration": 0.016022,
     "end_time": "2022-08-04T14:58:50.775267",
     "exception": false,
     "start_time": "2022-08-04T14:58:50.759245",
     "status": "completed"
    },
    "tags": []
   },
   "outputs": [
    {
     "data": {
      "application/javascript": [
       "parent.postMessage({\"jupyterEvent\": \"custom.exercise_interaction\", \"data\": {\"interactionType\": 3, \"questionType\": 1, \"questionId\": \"1_PointsDtype\", \"learnToolsVersion\": \"0.3.4\", \"valueTowardsCompletion\": 0.0, \"failureMessage\": \"\", \"exceptionClass\": \"\", \"trace\": \"\", \"outcomeType\": 4}}, \"*\")"
      ],
      "text/plain": [
       "<IPython.core.display.Javascript object>"
      ]
     },
     "metadata": {},
     "output_type": "display_data"
    },
    {
     "data": {
      "text/markdown": [
       "<span style=\"color:#33cc99\">Solution:</span> \n",
       "```python\n",
       "dtype = reviews.points.dtype\n",
       "```"
      ],
      "text/plain": [
       "Solution: \n",
       "```python\n",
       "dtype = reviews.points.dtype\n",
       "```"
      ]
     },
     "metadata": {},
     "output_type": "display_data"
    }
   ],
   "source": [
    "#q1.hint()\n",
    "q1.solution()"
   ]
  },
  {
   "cell_type": "markdown",
   "id": "ff06e2e6",
   "metadata": {
    "papermill": {
     "duration": 0.004448,
     "end_time": "2022-08-04T14:58:50.784583",
     "exception": false,
     "start_time": "2022-08-04T14:58:50.780135",
     "status": "completed"
    },
    "tags": []
   },
   "source": [
    "## 2. \n",
    "Create a Series from entries in the `points` column, but convert the entries to strings. Hint: strings are `str` in native Python."
   ]
  },
  {
   "cell_type": "code",
   "execution_count": 4,
   "id": "9b719c84",
   "metadata": {
    "execution": {
     "iopub.execute_input": "2022-08-04T14:58:50.795999Z",
     "iopub.status.busy": "2022-08-04T14:58:50.795265Z",
     "iopub.status.idle": "2022-08-04T14:58:50.881027Z",
     "shell.execute_reply": "2022-08-04T14:58:50.880222Z"
    },
    "papermill": {
     "duration": 0.093808,
     "end_time": "2022-08-04T14:58:50.883033",
     "exception": false,
     "start_time": "2022-08-04T14:58:50.789225",
     "status": "completed"
    },
    "tags": []
   },
   "outputs": [
    {
     "data": {
      "application/javascript": [
       "parent.postMessage({\"jupyterEvent\": \"custom.exercise_interaction\", \"data\": {\"outcomeType\": 1, \"valueTowardsCompletion\": 0.25, \"interactionType\": 1, \"questionType\": 1, \"questionId\": \"2_StrPoints\", \"learnToolsVersion\": \"0.3.4\", \"failureMessage\": \"\", \"exceptionClass\": \"\", \"trace\": \"\"}}, \"*\")"
      ],
      "text/plain": [
       "<IPython.core.display.Javascript object>"
      ]
     },
     "metadata": {},
     "output_type": "display_data"
    },
    {
     "data": {
      "text/markdown": [
       "<span style=\"color:#33cc33\">Correct</span>"
      ],
      "text/plain": [
       "Correct"
      ]
     },
     "metadata": {},
     "output_type": "display_data"
    }
   ],
   "source": [
    "point_strings = reviews.points.astype(\"str\")\n",
    "\n",
    "# Check your answer\n",
    "q2.check()"
   ]
  },
  {
   "cell_type": "code",
   "execution_count": 5,
   "id": "2c3a7a55",
   "metadata": {
    "execution": {
     "iopub.execute_input": "2022-08-04T14:58:50.894729Z",
     "iopub.status.busy": "2022-08-04T14:58:50.894192Z",
     "iopub.status.idle": "2022-08-04T14:58:50.897526Z",
     "shell.execute_reply": "2022-08-04T14:58:50.896800Z"
    },
    "papermill": {
     "duration": 0.011381,
     "end_time": "2022-08-04T14:58:50.899516",
     "exception": false,
     "start_time": "2022-08-04T14:58:50.888135",
     "status": "completed"
    },
    "tags": []
   },
   "outputs": [],
   "source": [
    "#q2.hint()\n",
    "#q2.solution()"
   ]
  },
  {
   "cell_type": "markdown",
   "id": "49698f88",
   "metadata": {
    "papermill": {
     "duration": 0.004636,
     "end_time": "2022-08-04T14:58:50.909058",
     "exception": false,
     "start_time": "2022-08-04T14:58:50.904422",
     "status": "completed"
    },
    "tags": []
   },
   "source": [
    "## 3.\n",
    "Sometimes the price column is null. How many reviews in the dataset are missing a price?"
   ]
  },
  {
   "cell_type": "code",
   "execution_count": 6,
   "id": "60479a9f",
   "metadata": {
    "execution": {
     "iopub.execute_input": "2022-08-04T14:58:50.920735Z",
     "iopub.status.busy": "2022-08-04T14:58:50.920053Z",
     "iopub.status.idle": "2022-08-04T14:58:50.929151Z",
     "shell.execute_reply": "2022-08-04T14:58:50.928387Z"
    },
    "papermill": {
     "duration": 0.017366,
     "end_time": "2022-08-04T14:58:50.931241",
     "exception": false,
     "start_time": "2022-08-04T14:58:50.913875",
     "status": "completed"
    },
    "tags": []
   },
   "outputs": [
    {
     "data": {
      "application/javascript": [
       "parent.postMessage({\"jupyterEvent\": \"custom.exercise_interaction\", \"data\": {\"outcomeType\": 2, \"failureMessage\": \"Incorrect value for `n_missing_prices`: `<bound method Series.count of 0          True\\n1         False\\n2         False\\n3         False\\n4         False\\n          ...  \\n129966    False\\n129967    False\\n129968    False\\n129969    False\\n129970    False\\nName: price, Length: 129971, dtype: bool>`\", \"interactionType\": 1, \"questionType\": 1, \"questionId\": \"3_CountMissingPrices\", \"learnToolsVersion\": \"0.3.4\", \"valueTowardsCompletion\": 0.0, \"exceptionClass\": \"\", \"trace\": \"\"}}, \"*\")"
      ],
      "text/plain": [
       "<IPython.core.display.Javascript object>"
      ]
     },
     "metadata": {},
     "output_type": "display_data"
    },
    {
     "data": {
      "text/markdown": [
       "<span style=\"color:#cc3333\">Incorrect:</span> Incorrect value for `n_missing_prices`: `<bound method Series.count of 0          True\n",
       "1         False\n",
       "2         False\n",
       "3         False\n",
       "4         False\n",
       "          ...  \n",
       "129966    False\n",
       "129967    False\n",
       "129968    False\n",
       "129969    False\n",
       "129970    False\n",
       "Name: price, Length: 129971, dtype: bool>`"
      ],
      "text/plain": [
       "Incorrect: Incorrect value for `n_missing_prices`: `<bound method Series.count of 0          True\n",
       "1         False\n",
       "2         False\n",
       "3         False\n",
       "4         False\n",
       "          ...  \n",
       "129966    False\n",
       "129967    False\n",
       "129968    False\n",
       "129969    False\n",
       "129970    False\n",
       "Name: price, Length: 129971, dtype: bool>`"
      ]
     },
     "metadata": {},
     "output_type": "display_data"
    }
   ],
   "source": [
    "n_missing_prices = reviews.price.isnull().count\n",
    "\n",
    "# Check your answer\n",
    "q3.check()"
   ]
  },
  {
   "cell_type": "code",
   "execution_count": 7,
   "id": "755dc6fe",
   "metadata": {
    "execution": {
     "iopub.execute_input": "2022-08-04T14:58:50.943510Z",
     "iopub.status.busy": "2022-08-04T14:58:50.942945Z",
     "iopub.status.idle": "2022-08-04T14:58:50.952557Z",
     "shell.execute_reply": "2022-08-04T14:58:50.951721Z"
    },
    "papermill": {
     "duration": 0.018153,
     "end_time": "2022-08-04T14:58:50.954579",
     "exception": false,
     "start_time": "2022-08-04T14:58:50.936426",
     "status": "completed"
    },
    "tags": []
   },
   "outputs": [
    {
     "data": {
      "application/javascript": [
       "parent.postMessage({\"jupyterEvent\": \"custom.exercise_interaction\", \"data\": {\"interactionType\": 2, \"questionType\": 1, \"questionId\": \"3_CountMissingPrices\", \"learnToolsVersion\": \"0.3.4\", \"valueTowardsCompletion\": 0.0, \"failureMessage\": \"\", \"exceptionClass\": \"\", \"trace\": \"\", \"outcomeType\": 4}}, \"*\")"
      ],
      "text/plain": [
       "<IPython.core.display.Javascript object>"
      ]
     },
     "metadata": {},
     "output_type": "display_data"
    },
    {
     "data": {
      "text/markdown": [
       "<span style=\"color:#3366cc\">Hint:</span> Use `pd.isnull()`."
      ],
      "text/plain": [
       "Hint: Use `pd.isnull()`."
      ]
     },
     "metadata": {},
     "output_type": "display_data"
    },
    {
     "data": {
      "application/javascript": [
       "parent.postMessage({\"jupyterEvent\": \"custom.exercise_interaction\", \"data\": {\"interactionType\": 3, \"questionType\": 1, \"questionId\": \"3_CountMissingPrices\", \"learnToolsVersion\": \"0.3.4\", \"valueTowardsCompletion\": 0.0, \"failureMessage\": \"\", \"exceptionClass\": \"\", \"trace\": \"\", \"outcomeType\": 4}}, \"*\")"
      ],
      "text/plain": [
       "<IPython.core.display.Javascript object>"
      ]
     },
     "metadata": {},
     "output_type": "display_data"
    },
    {
     "data": {
      "text/markdown": [
       "<span style=\"color:#33cc99\">Solution:</span> \n",
       "```python\n",
       "missing_price_reviews = reviews[reviews.price.isnull()]\n",
       "n_missing_prices = len(missing_price_reviews)\n",
       "# Cute alternative solution: if we sum a boolean series, True is treated as 1 and False as 0\n",
       "n_missing_prices = reviews.price.isnull().sum()\n",
       "# or equivalently:\n",
       "n_missing_prices = pd.isnull(reviews.price).sum()\n",
       "\n",
       "```"
      ],
      "text/plain": [
       "Solution: \n",
       "```python\n",
       "missing_price_reviews = reviews[reviews.price.isnull()]\n",
       "n_missing_prices = len(missing_price_reviews)\n",
       "# Cute alternative solution: if we sum a boolean series, True is treated as 1 and False as 0\n",
       "n_missing_prices = reviews.price.isnull().sum()\n",
       "# or equivalently:\n",
       "n_missing_prices = pd.isnull(reviews.price).sum()\n",
       "\n",
       "```"
      ]
     },
     "metadata": {},
     "output_type": "display_data"
    }
   ],
   "source": [
    "q3.hint()\n",
    "q3.solution()"
   ]
  },
  {
   "cell_type": "markdown",
   "id": "9ab80351",
   "metadata": {
    "papermill": {
     "duration": 0.005279,
     "end_time": "2022-08-04T14:58:50.965411",
     "exception": false,
     "start_time": "2022-08-04T14:58:50.960132",
     "status": "completed"
    },
    "tags": []
   },
   "source": [
    "## 4.\n",
    "What are the most common wine-producing regions? Create a Series counting the number of times each value occurs in the `region_1` field. This field is often missing data, so replace missing values with `Unknown`. Sort in descending order.  Your output should look something like this:\n",
    "\n",
    "```\n",
    "Unknown                    21247\n",
    "Napa Valley                 4480\n",
    "                           ...  \n",
    "Bardolino Superiore            1\n",
    "Primitivo del Tarantino        1\n",
    "Name: region_1, Length: 1230, dtype: int64\n",
    "```"
   ]
  },
  {
   "cell_type": "code",
   "execution_count": 8,
   "id": "81a66621",
   "metadata": {
    "execution": {
     "iopub.execute_input": "2022-08-04T14:58:50.978394Z",
     "iopub.status.busy": "2022-08-04T14:58:50.977813Z",
     "iopub.status.idle": "2022-08-04T14:58:51.019483Z",
     "shell.execute_reply": "2022-08-04T14:58:51.018288Z"
    },
    "papermill": {
     "duration": 0.050785,
     "end_time": "2022-08-04T14:58:51.021682",
     "exception": false,
     "start_time": "2022-08-04T14:58:50.970897",
     "status": "completed"
    },
    "tags": []
   },
   "outputs": [
    {
     "name": "stdout",
     "output_type": "stream",
     "text": [
      "Unknown                 21247\n",
      "Napa Valley              4480\n",
      "Columbia Valley (WA)     4124\n",
      "Russian River Valley     3091\n",
      "California               2629\n",
      "                        ...  \n",
      "Offida Rosso                1\n",
      "Corton Perrières            1\n",
      "Isle St. George             1\n",
      "Geelong                     1\n",
      "Paestum                     1\n",
      "Name: region_1, Length: 1230, dtype: int64\n"
     ]
    },
    {
     "data": {
      "application/javascript": [
       "parent.postMessage({\"jupyterEvent\": \"custom.exercise_interaction\", \"data\": {\"outcomeType\": 1, \"valueTowardsCompletion\": 0.25, \"interactionType\": 1, \"questionType\": 2, \"questionId\": \"4_ReviewsPerRegion\", \"learnToolsVersion\": \"0.3.4\", \"failureMessage\": \"\", \"exceptionClass\": \"\", \"trace\": \"\"}}, \"*\")"
      ],
      "text/plain": [
       "<IPython.core.display.Javascript object>"
      ]
     },
     "metadata": {},
     "output_type": "display_data"
    },
    {
     "data": {
      "text/markdown": [
       "<span style=\"color:#33cc33\">Correct</span>"
      ],
      "text/plain": [
       "Correct"
      ]
     },
     "metadata": {},
     "output_type": "display_data"
    }
   ],
   "source": [
    "fill_NA_region = reviews.region_1.fillna(\"Unknown\")\n",
    "reviews_per_region = fill_NA_region.value_counts().sort_values(ascending=False)\n",
    "print(reviews_per_region)\n",
    "\n",
    "# Check your answer\n",
    "q4.check()"
   ]
  },
  {
   "cell_type": "code",
   "execution_count": 9,
   "id": "5b2ad82e",
   "metadata": {
    "execution": {
     "iopub.execute_input": "2022-08-04T14:58:51.036356Z",
     "iopub.status.busy": "2022-08-04T14:58:51.035672Z",
     "iopub.status.idle": "2022-08-04T14:58:51.042572Z",
     "shell.execute_reply": "2022-08-04T14:58:51.041831Z"
    },
    "papermill": {
     "duration": 0.016553,
     "end_time": "2022-08-04T14:58:51.044670",
     "exception": false,
     "start_time": "2022-08-04T14:58:51.028117",
     "status": "completed"
    },
    "tags": []
   },
   "outputs": [
    {
     "data": {
      "application/javascript": [
       "parent.postMessage({\"jupyterEvent\": \"custom.exercise_interaction\", \"data\": {\"interactionType\": 3, \"questionType\": 2, \"questionId\": \"4_ReviewsPerRegion\", \"learnToolsVersion\": \"0.3.4\", \"valueTowardsCompletion\": 0.0, \"failureMessage\": \"\", \"exceptionClass\": \"\", \"trace\": \"\", \"outcomeType\": 4}}, \"*\")"
      ],
      "text/plain": [
       "<IPython.core.display.Javascript object>"
      ]
     },
     "metadata": {},
     "output_type": "display_data"
    },
    {
     "data": {
      "text/markdown": [
       "<span style=\"color:#33cc99\">Solution:</span> \n",
       "```python\n",
       "reviews_per_region = reviews.region_1.fillna('Unknown').value_counts().sort_values(ascending=False)\n",
       "```"
      ],
      "text/plain": [
       "Solution: \n",
       "```python\n",
       "reviews_per_region = reviews.region_1.fillna('Unknown').value_counts().sort_values(ascending=False)\n",
       "```"
      ]
     },
     "metadata": {},
     "output_type": "display_data"
    }
   ],
   "source": [
    "#q4.hint()\n",
    "q4.solution()"
   ]
  },
  {
   "cell_type": "markdown",
   "id": "0bfc9909",
   "metadata": {
    "papermill": {
     "duration": 0.006017,
     "end_time": "2022-08-04T14:58:51.057214",
     "exception": false,
     "start_time": "2022-08-04T14:58:51.051197",
     "status": "completed"
    },
    "tags": []
   },
   "source": [
    "# Keep going\n",
    "\n",
    "Move on to **[renaming and combining](https://www.kaggle.com/residentmario/renaming-and-combining)**."
   ]
  },
  {
   "cell_type": "markdown",
   "id": "25626fa7",
   "metadata": {
    "papermill": {
     "duration": 0.006776,
     "end_time": "2022-08-04T14:58:51.070224",
     "exception": false,
     "start_time": "2022-08-04T14:58:51.063448",
     "status": "completed"
    },
    "tags": []
   },
   "source": [
    "---\n",
    "\n",
    "\n",
    "\n",
    "\n",
    "*Have questions or comments? Visit the [course discussion forum](https://www.kaggle.com/learn/pandas/discussion) to chat with other learners.*"
   ]
  }
 ],
 "metadata": {
  "kernelspec": {
   "display_name": "Python 3",
   "language": "python",
   "name": "python3"
  },
  "language_info": {
   "codemirror_mode": {
    "name": "ipython",
    "version": 3
   },
   "file_extension": ".py",
   "mimetype": "text/x-python",
   "name": "python",
   "nbconvert_exporter": "python",
   "pygments_lexer": "ipython3",
   "version": "3.7.12"
  },
  "papermill": {
   "default_parameters": {},
   "duration": 13.179245,
   "end_time": "2022-08-04T14:58:51.797585",
   "environment_variables": {},
   "exception": null,
   "input_path": "__notebook__.ipynb",
   "output_path": "__notebook__.ipynb",
   "parameters": {},
   "start_time": "2022-08-04T14:58:38.618340",
   "version": "2.3.4"
  }
 },
 "nbformat": 4,
 "nbformat_minor": 5
}
