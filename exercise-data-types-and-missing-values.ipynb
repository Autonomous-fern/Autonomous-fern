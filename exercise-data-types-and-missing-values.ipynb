{
 "cells": [
  {
   "cell_type": "markdown",
   "id": "ec629351",
   "metadata": {
    "papermill": {
     "duration": 0.004604,
     "end_time": "2022-08-04T16:41:28.424367",
     "exception": false,
     "start_time": "2022-08-04T16:41:28.419763",
     "status": "completed"
    },
    "tags": []
   },
   "source": [
    "**This notebook is an exercise in the [Pandas](https://www.kaggle.com/learn/pandas) course.  You can reference the tutorial at [this link](https://www.kaggle.com/residentmario/data-types-and-missing-values).**\n",
    "\n",
    "---\n"
   ]
  },
  {
   "cell_type": "markdown",
   "id": "5c2c0395",
   "metadata": {
    "papermill": {
     "duration": 0.003093,
     "end_time": "2022-08-04T16:41:28.431026",
     "exception": false,
     "start_time": "2022-08-04T16:41:28.427933",
     "status": "completed"
    },
    "tags": []
   },
   "source": [
    "# Introduction\n",
    "\n",
    "Run the following cell to load your data and some utility functions."
   ]
  },
  {
   "cell_type": "code",
   "execution_count": 1,
   "id": "410d65be",
   "metadata": {
    "execution": {
     "iopub.execute_input": "2022-08-04T16:41:28.439644Z",
     "iopub.status.busy": "2022-08-04T16:41:28.438940Z",
     "iopub.status.idle": "2022-08-04T16:41:30.840816Z",
     "shell.execute_reply": "2022-08-04T16:41:30.840201Z"
    },
    "papermill": {
     "duration": 2.408545,
     "end_time": "2022-08-04T16:41:30.842793",
     "exception": false,
     "start_time": "2022-08-04T16:41:28.434248",
     "status": "completed"
    },
    "tags": []
   },
   "outputs": [
    {
     "name": "stdout",
     "output_type": "stream",
     "text": [
      "Setup complete.\n"
     ]
    }
   ],
   "source": [
    "import pandas as pd\n",
    "\n",
    "reviews = pd.read_csv(\"../input/wine-reviews/winemag-data-130k-v2.csv\", index_col=0)\n",
    "\n",
    "from learntools.core import binder; binder.bind(globals())\n",
    "from learntools.pandas.data_types_and_missing_data import *\n",
    "print(\"Setup complete.\")"
   ]
  },
  {
   "cell_type": "markdown",
   "id": "728531dc",
   "metadata": {
    "papermill": {
     "duration": 0.003125,
     "end_time": "2022-08-04T16:41:30.849507",
     "exception": false,
     "start_time": "2022-08-04T16:41:30.846382",
     "status": "completed"
    },
    "tags": []
   },
   "source": [
    "# Exercises"
   ]
  },
  {
   "cell_type": "markdown",
   "id": "96d01e14",
   "metadata": {
    "papermill": {
     "duration": 0.003017,
     "end_time": "2022-08-04T16:41:30.855789",
     "exception": false,
     "start_time": "2022-08-04T16:41:30.852772",
     "status": "completed"
    },
    "tags": []
   },
   "source": [
    "## 1. \n",
    "What is the data type of the `points` column in the dataset?"
   ]
  },
  {
   "cell_type": "code",
   "execution_count": 2,
   "id": "6507b75d",
   "metadata": {
    "execution": {
     "iopub.execute_input": "2022-08-04T16:41:30.864932Z",
     "iopub.status.busy": "2022-08-04T16:41:30.863997Z",
     "iopub.status.idle": "2022-08-04T16:41:30.874541Z",
     "shell.execute_reply": "2022-08-04T16:41:30.873705Z"
    },
    "papermill": {
     "duration": 0.016864,
     "end_time": "2022-08-04T16:41:30.876188",
     "exception": false,
     "start_time": "2022-08-04T16:41:30.859324",
     "status": "completed"
    },
    "tags": []
   },
   "outputs": [
    {
     "data": {
      "application/javascript": [
       "parent.postMessage({\"jupyterEvent\": \"custom.exercise_interaction\", \"data\": {\"outcomeType\": 1, \"valueTowardsCompletion\": 0.25, \"interactionType\": 1, \"questionType\": 1, \"questionId\": \"1_PointsDtype\", \"learnToolsVersion\": \"0.3.4\", \"failureMessage\": \"\", \"exceptionClass\": \"\", \"trace\": \"\"}}, \"*\")"
      ],
      "text/plain": [
       "<IPython.core.display.Javascript object>"
      ]
     },
     "metadata": {},
     "output_type": "display_data"
    },
    {
     "data": {
      "text/markdown": [
       "<span style=\"color:#33cc33\">Correct</span>"
      ],
      "text/plain": [
       "Correct"
      ]
     },
     "metadata": {},
     "output_type": "display_data"
    }
   ],
   "source": [
    "# Your code here\n",
    "dtype = reviews.points.dtype\n",
    "\n",
    "# Check your answer\n",
    "q1.check()"
   ]
  },
  {
   "cell_type": "code",
   "execution_count": 3,
   "id": "9a3fc605",
   "metadata": {
    "execution": {
     "iopub.execute_input": "2022-08-04T16:41:30.884556Z",
     "iopub.status.busy": "2022-08-04T16:41:30.884294Z",
     "iopub.status.idle": "2022-08-04T16:41:30.891503Z",
     "shell.execute_reply": "2022-08-04T16:41:30.890775Z"
    },
    "papermill": {
     "duration": 0.013233,
     "end_time": "2022-08-04T16:41:30.893182",
     "exception": false,
     "start_time": "2022-08-04T16:41:30.879949",
     "status": "completed"
    },
    "tags": []
   },
   "outputs": [
    {
     "data": {
      "application/javascript": [
       "parent.postMessage({\"jupyterEvent\": \"custom.exercise_interaction\", \"data\": {\"interactionType\": 3, \"questionType\": 1, \"questionId\": \"1_PointsDtype\", \"learnToolsVersion\": \"0.3.4\", \"valueTowardsCompletion\": 0.0, \"failureMessage\": \"\", \"exceptionClass\": \"\", \"trace\": \"\", \"outcomeType\": 4}}, \"*\")"
      ],
      "text/plain": [
       "<IPython.core.display.Javascript object>"
      ]
     },
     "metadata": {},
     "output_type": "display_data"
    },
    {
     "data": {
      "text/markdown": [
       "<span style=\"color:#33cc99\">Solution:</span> \n",
       "```python\n",
       "dtype = reviews.points.dtype\n",
       "```"
      ],
      "text/plain": [
       "Solution: \n",
       "```python\n",
       "dtype = reviews.points.dtype\n",
       "```"
      ]
     },
     "metadata": {},
     "output_type": "display_data"
    }
   ],
   "source": [
    "#q1.hint()\n",
    "q1.solution()"
   ]
  },
  {
   "cell_type": "markdown",
   "id": "0c00d05b",
   "metadata": {
    "papermill": {
     "duration": 0.003467,
     "end_time": "2022-08-04T16:41:30.900535",
     "exception": false,
     "start_time": "2022-08-04T16:41:30.897068",
     "status": "completed"
    },
    "tags": []
   },
   "source": [
    "## 2. \n",
    "Create a Series from entries in the `points` column, but convert the entries to strings. Hint: strings are `str` in native Python."
   ]
  },
  {
   "cell_type": "code",
   "execution_count": 4,
   "id": "f74a6074",
   "metadata": {
    "execution": {
     "iopub.execute_input": "2022-08-04T16:41:30.909309Z",
     "iopub.status.busy": "2022-08-04T16:41:30.909024Z",
     "iopub.status.idle": "2022-08-04T16:41:30.991169Z",
     "shell.execute_reply": "2022-08-04T16:41:30.990372Z"
    },
    "papermill": {
     "duration": 0.088694,
     "end_time": "2022-08-04T16:41:30.992885",
     "exception": false,
     "start_time": "2022-08-04T16:41:30.904191",
     "status": "completed"
    },
    "tags": []
   },
   "outputs": [
    {
     "data": {
      "application/javascript": [
       "parent.postMessage({\"jupyterEvent\": \"custom.exercise_interaction\", \"data\": {\"outcomeType\": 1, \"valueTowardsCompletion\": 0.25, \"interactionType\": 1, \"questionType\": 1, \"questionId\": \"2_StrPoints\", \"learnToolsVersion\": \"0.3.4\", \"failureMessage\": \"\", \"exceptionClass\": \"\", \"trace\": \"\"}}, \"*\")"
      ],
      "text/plain": [
       "<IPython.core.display.Javascript object>"
      ]
     },
     "metadata": {},
     "output_type": "display_data"
    },
    {
     "data": {
      "text/markdown": [
       "<span style=\"color:#33cc33\">Correct</span>"
      ],
      "text/plain": [
       "Correct"
      ]
     },
     "metadata": {},
     "output_type": "display_data"
    }
   ],
   "source": [
    "point_strings = reviews.points.astype(\"str\")\n",
    "\n",
    "# Check your answer\n",
    "q2.check()"
   ]
  },
  {
   "cell_type": "code",
   "execution_count": 5,
   "id": "0b6e183a",
   "metadata": {
    "execution": {
     "iopub.execute_input": "2022-08-04T16:41:31.002069Z",
     "iopub.status.busy": "2022-08-04T16:41:31.001804Z",
     "iopub.status.idle": "2022-08-04T16:41:31.005282Z",
     "shell.execute_reply": "2022-08-04T16:41:31.004552Z"
    },
    "papermill": {
     "duration": 0.01014,
     "end_time": "2022-08-04T16:41:31.007186",
     "exception": false,
     "start_time": "2022-08-04T16:41:30.997046",
     "status": "completed"
    },
    "tags": []
   },
   "outputs": [],
   "source": [
    "#q2.hint()\n",
    "#q2.solution()"
   ]
  },
  {
   "cell_type": "markdown",
   "id": "b7a328cf",
   "metadata": {
    "papermill": {
     "duration": 0.003784,
     "end_time": "2022-08-04T16:41:31.015163",
     "exception": false,
     "start_time": "2022-08-04T16:41:31.011379",
     "status": "completed"
    },
    "tags": []
   },
   "source": [
    "## 3.\n",
    "Sometimes the price column is null. How many reviews in the dataset are missing a price?"
   ]
  },
  {
   "cell_type": "code",
   "execution_count": 6,
   "id": "9a079ecc",
   "metadata": {
    "execution": {
     "iopub.execute_input": "2022-08-04T16:41:31.024580Z",
     "iopub.status.busy": "2022-08-04T16:41:31.023935Z",
     "iopub.status.idle": "2022-08-04T16:41:31.037095Z",
     "shell.execute_reply": "2022-08-04T16:41:31.036221Z"
    },
    "papermill": {
     "duration": 0.020073,
     "end_time": "2022-08-04T16:41:31.039210",
     "exception": false,
     "start_time": "2022-08-04T16:41:31.019137",
     "status": "completed"
    },
    "tags": []
   },
   "outputs": [
    {
     "name": "stdout",
     "output_type": "stream",
     "text": [
      "8996\n"
     ]
    },
    {
     "data": {
      "application/javascript": [
       "parent.postMessage({\"jupyterEvent\": \"custom.exercise_interaction\", \"data\": {\"outcomeType\": 1, \"valueTowardsCompletion\": 0.25, \"interactionType\": 1, \"questionType\": 1, \"questionId\": \"3_CountMissingPrices\", \"learnToolsVersion\": \"0.3.4\", \"failureMessage\": \"\", \"exceptionClass\": \"\", \"trace\": \"\"}}, \"*\")"
      ],
      "text/plain": [
       "<IPython.core.display.Javascript object>"
      ]
     },
     "metadata": {},
     "output_type": "display_data"
    },
    {
     "data": {
      "text/markdown": [
       "<span style=\"color:#33cc33\">Correct</span>"
      ],
      "text/plain": [
       "Correct"
      ]
     },
     "metadata": {},
     "output_type": "display_data"
    }
   ],
   "source": [
    "n_missing_prices = reviews.price.isnull().value_counts()[1]\n",
    "print(n_missing_prices)\n",
    "\n",
    "# Check your answer\n",
    "q3.check()"
   ]
  },
  {
   "cell_type": "code",
   "execution_count": 7,
   "id": "8683c438",
   "metadata": {
    "execution": {
     "iopub.execute_input": "2022-08-04T16:41:31.051104Z",
     "iopub.status.busy": "2022-08-04T16:41:31.050662Z",
     "iopub.status.idle": "2022-08-04T16:41:31.064255Z",
     "shell.execute_reply": "2022-08-04T16:41:31.063008Z"
    },
    "papermill": {
     "duration": 0.021824,
     "end_time": "2022-08-04T16:41:31.066386",
     "exception": false,
     "start_time": "2022-08-04T16:41:31.044562",
     "status": "completed"
    },
    "tags": []
   },
   "outputs": [
    {
     "data": {
      "application/javascript": [
       "parent.postMessage({\"jupyterEvent\": \"custom.exercise_interaction\", \"data\": {\"interactionType\": 2, \"questionType\": 1, \"questionId\": \"3_CountMissingPrices\", \"learnToolsVersion\": \"0.3.4\", \"valueTowardsCompletion\": 0.0, \"failureMessage\": \"\", \"exceptionClass\": \"\", \"trace\": \"\", \"outcomeType\": 4}}, \"*\")"
      ],
      "text/plain": [
       "<IPython.core.display.Javascript object>"
      ]
     },
     "metadata": {},
     "output_type": "display_data"
    },
    {
     "data": {
      "text/markdown": [
       "<span style=\"color:#3366cc\">Hint:</span> Use `pd.isnull()`."
      ],
      "text/plain": [
       "Hint: Use `pd.isnull()`."
      ]
     },
     "metadata": {},
     "output_type": "display_data"
    },
    {
     "data": {
      "application/javascript": [
       "parent.postMessage({\"jupyterEvent\": \"custom.exercise_interaction\", \"data\": {\"interactionType\": 3, \"questionType\": 1, \"questionId\": \"3_CountMissingPrices\", \"learnToolsVersion\": \"0.3.4\", \"valueTowardsCompletion\": 0.0, \"failureMessage\": \"\", \"exceptionClass\": \"\", \"trace\": \"\", \"outcomeType\": 4}}, \"*\")"
      ],
      "text/plain": [
       "<IPython.core.display.Javascript object>"
      ]
     },
     "metadata": {},
     "output_type": "display_data"
    },
    {
     "data": {
      "text/markdown": [
       "<span style=\"color:#33cc99\">Solution:</span> \n",
       "```python\n",
       "missing_price_reviews = reviews[reviews.price.isnull()]\n",
       "n_missing_prices = len(missing_price_reviews)\n",
       "# Cute alternative solution: if we sum a boolean series, True is treated as 1 and False as 0\n",
       "n_missing_prices = reviews.price.isnull().sum()\n",
       "# or equivalently:\n",
       "n_missing_prices = pd.isnull(reviews.price).sum()\n",
       "\n",
       "```"
      ],
      "text/plain": [
       "Solution: \n",
       "```python\n",
       "missing_price_reviews = reviews[reviews.price.isnull()]\n",
       "n_missing_prices = len(missing_price_reviews)\n",
       "# Cute alternative solution: if we sum a boolean series, True is treated as 1 and False as 0\n",
       "n_missing_prices = reviews.price.isnull().sum()\n",
       "# or equivalently:\n",
       "n_missing_prices = pd.isnull(reviews.price).sum()\n",
       "\n",
       "```"
      ]
     },
     "metadata": {},
     "output_type": "display_data"
    }
   ],
   "source": [
    "q3.hint()\n",
    "q3.solution()"
   ]
  },
  {
   "cell_type": "markdown",
   "id": "35227ffd",
   "metadata": {
    "papermill": {
     "duration": 0.004754,
     "end_time": "2022-08-04T16:41:31.077810",
     "exception": false,
     "start_time": "2022-08-04T16:41:31.073056",
     "status": "completed"
    },
    "tags": []
   },
   "source": [
    "## 4.\n",
    "What are the most common wine-producing regions? Create a Series counting the number of times each value occurs in the `region_1` field. This field is often missing data, so replace missing values with `Unknown`. Sort in descending order.  Your output should look something like this:\n",
    "\n",
    "```\n",
    "Unknown                    21247\n",
    "Napa Valley                 4480\n",
    "                           ...  \n",
    "Bardolino Superiore            1\n",
    "Primitivo del Tarantino        1\n",
    "Name: region_1, Length: 1230, dtype: int64\n",
    "```"
   ]
  },
  {
   "cell_type": "code",
   "execution_count": 8,
   "id": "efedfbce",
   "metadata": {
    "execution": {
     "iopub.execute_input": "2022-08-04T16:41:31.089294Z",
     "iopub.status.busy": "2022-08-04T16:41:31.088993Z",
     "iopub.status.idle": "2022-08-04T16:41:31.130784Z",
     "shell.execute_reply": "2022-08-04T16:41:31.129291Z"
    },
    "papermill": {
     "duration": 0.050459,
     "end_time": "2022-08-04T16:41:31.133308",
     "exception": false,
     "start_time": "2022-08-04T16:41:31.082849",
     "status": "completed"
    },
    "tags": []
   },
   "outputs": [
    {
     "name": "stdout",
     "output_type": "stream",
     "text": [
      "Unknown                 21247\n",
      "Napa Valley              4480\n",
      "Columbia Valley (WA)     4124\n",
      "Russian River Valley     3091\n",
      "California               2629\n",
      "                        ...  \n",
      "Offida Rosso                1\n",
      "Corton Perrières            1\n",
      "Isle St. George             1\n",
      "Geelong                     1\n",
      "Paestum                     1\n",
      "Name: region_1, Length: 1230, dtype: int64\n"
     ]
    },
    {
     "data": {
      "application/javascript": [
       "parent.postMessage({\"jupyterEvent\": \"custom.exercise_interaction\", \"data\": {\"outcomeType\": 1, \"valueTowardsCompletion\": 0.25, \"interactionType\": 1, \"questionType\": 2, \"questionId\": \"4_ReviewsPerRegion\", \"learnToolsVersion\": \"0.3.4\", \"failureMessage\": \"\", \"exceptionClass\": \"\", \"trace\": \"\"}}, \"*\")"
      ],
      "text/plain": [
       "<IPython.core.display.Javascript object>"
      ]
     },
     "metadata": {},
     "output_type": "display_data"
    },
    {
     "data": {
      "text/markdown": [
       "<span style=\"color:#33cc33\">Correct</span>"
      ],
      "text/plain": [
       "Correct"
      ]
     },
     "metadata": {},
     "output_type": "display_data"
    }
   ],
   "source": [
    "fill_NA_region = reviews.region_1.fillna(\"Unknown\")\n",
    "reviews_per_region = fill_NA_region.value_counts().sort_values(ascending=False)\n",
    "print(reviews_per_region)\n",
    "\n",
    "# Check your answer\n",
    "q4.check()"
   ]
  },
  {
   "cell_type": "code",
   "execution_count": 9,
   "id": "30520bfa",
   "metadata": {
    "execution": {
     "iopub.execute_input": "2022-08-04T16:41:31.145243Z",
     "iopub.status.busy": "2022-08-04T16:41:31.144401Z",
     "iopub.status.idle": "2022-08-04T16:41:31.152345Z",
     "shell.execute_reply": "2022-08-04T16:41:31.151505Z"
    },
    "papermill": {
     "duration": 0.01555,
     "end_time": "2022-08-04T16:41:31.154084",
     "exception": false,
     "start_time": "2022-08-04T16:41:31.138534",
     "status": "completed"
    },
    "tags": []
   },
   "outputs": [
    {
     "data": {
      "application/javascript": [
       "parent.postMessage({\"jupyterEvent\": \"custom.exercise_interaction\", \"data\": {\"interactionType\": 3, \"questionType\": 2, \"questionId\": \"4_ReviewsPerRegion\", \"learnToolsVersion\": \"0.3.4\", \"valueTowardsCompletion\": 0.0, \"failureMessage\": \"\", \"exceptionClass\": \"\", \"trace\": \"\", \"outcomeType\": 4}}, \"*\")"
      ],
      "text/plain": [
       "<IPython.core.display.Javascript object>"
      ]
     },
     "metadata": {},
     "output_type": "display_data"
    },
    {
     "data": {
      "text/markdown": [
       "<span style=\"color:#33cc99\">Solution:</span> \n",
       "```python\n",
       "reviews_per_region = reviews.region_1.fillna('Unknown').value_counts().sort_values(ascending=False)\n",
       "```"
      ],
      "text/plain": [
       "Solution: \n",
       "```python\n",
       "reviews_per_region = reviews.region_1.fillna('Unknown').value_counts().sort_values(ascending=False)\n",
       "```"
      ]
     },
     "metadata": {},
     "output_type": "display_data"
    }
   ],
   "source": [
    "#q4.hint()\n",
    "q4.solution()"
   ]
  },
  {
   "cell_type": "markdown",
   "id": "0c7ca3cd",
   "metadata": {
    "papermill": {
     "duration": 0.004783,
     "end_time": "2022-08-04T16:41:31.164273",
     "exception": false,
     "start_time": "2022-08-04T16:41:31.159490",
     "status": "completed"
    },
    "tags": []
   },
   "source": [
    "# Keep going\n",
    "\n",
    "Move on to **[renaming and combining](https://www.kaggle.com/residentmario/renaming-and-combining)**."
   ]
  },
  {
   "cell_type": "markdown",
   "id": "38a7734c",
   "metadata": {
    "papermill": {
     "duration": 0.005298,
     "end_time": "2022-08-04T16:41:31.174483",
     "exception": false,
     "start_time": "2022-08-04T16:41:31.169185",
     "status": "completed"
    },
    "tags": []
   },
   "source": [
    "---\n",
    "\n",
    "\n",
    "\n",
    "\n",
    "*Have questions or comments? Visit the [course discussion forum](https://www.kaggle.com/learn/pandas/discussion) to chat with other learners.*"
   ]
  }
 ],
 "metadata": {
  "kernelspec": {
   "display_name": "Python 3",
   "language": "python",
   "name": "python3"
  },
  "language_info": {
   "codemirror_mode": {
    "name": "ipython",
    "version": 3
   },
   "file_extension": ".py",
   "mimetype": "text/x-python",
   "name": "python",
   "nbconvert_exporter": "python",
   "pygments_lexer": "ipython3",
   "version": "3.7.12"
  },
  "papermill": {
   "default_parameters": {},
   "duration": 10.766312,
   "end_time": "2022-08-04T16:41:31.800519",
   "environment_variables": {},
   "exception": null,
   "input_path": "__notebook__.ipynb",
   "output_path": "__notebook__.ipynb",
   "parameters": {},
   "start_time": "2022-08-04T16:41:21.034207",
   "version": "2.3.4"
  }
 },
 "nbformat": 4,
 "nbformat_minor": 5
}
