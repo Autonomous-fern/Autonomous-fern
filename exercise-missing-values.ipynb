{
 "cells": [
  {
   "cell_type": "markdown",
   "id": "6851ca15",
   "metadata": {
    "_cell_guid": "1159d6a2-4e2e-47cb-94a4-56bb88570d18",
    "_uuid": "d14f89aa-6f5b-42ee-942d-916139187986",
    "papermill": {
     "duration": 0.01153,
     "end_time": "2022-08-04T19:15:19.970756",
     "exception": false,
     "start_time": "2022-08-04T19:15:19.959226",
     "status": "completed"
    },
    "tags": []
   },
   "source": [
    "**This notebook is an exercise in the [Intermediate Machine Learning](https://www.kaggle.com/learn/intermediate-machine-learning) course.  You can reference the tutorial at [this link](https://www.kaggle.com/alexisbcook/missing-values).**\n",
    "\n",
    "---"
   ]
  },
  {
   "cell_type": "markdown",
   "id": "07e326f9",
   "metadata": {
    "_cell_guid": "03b2198a-2fe0-4c65-a469-cc3bec733fcb",
    "_uuid": "a0ffa5e3-485e-4451-a17f-bc8c75ef51f1",
    "papermill": {
     "duration": 0.009789,
     "end_time": "2022-08-04T19:15:19.990836",
     "exception": false,
     "start_time": "2022-08-04T19:15:19.981047",
     "status": "completed"
    },
    "tags": []
   },
   "source": [
    "Now it's your turn to test your new knowledge of **missing values** handling. You'll probably find it makes a big difference.\n",
    "\n",
    "# Setup\n",
    "\n",
    "The questions will give you feedback on your work. Run the following cell to set up the feedback system."
   ]
  },
  {
   "cell_type": "code",
   "execution_count": 1,
   "id": "c1035dd6",
   "metadata": {
    "_cell_guid": "9559329d-140e-40a3-8bcf-044dfee7c182",
    "_uuid": "78f8f441-ef1e-45c8-a45a-2d79f54d2b3b",
    "collapsed": false,
    "execution": {
     "iopub.execute_input": "2022-08-04T19:15:20.015085Z",
     "iopub.status.busy": "2022-08-04T19:15:20.014509Z",
     "iopub.status.idle": "2022-08-04T19:15:20.077326Z",
     "shell.execute_reply": "2022-08-04T19:15:20.076408Z"
    },
    "jupyter": {
     "outputs_hidden": false
    },
    "papermill": {
     "duration": 0.079049,
     "end_time": "2022-08-04T19:15:20.079988",
     "exception": false,
     "start_time": "2022-08-04T19:15:20.000939",
     "status": "completed"
    },
    "tags": []
   },
   "outputs": [
    {
     "name": "stdout",
     "output_type": "stream",
     "text": [
      "Setup Complete\n"
     ]
    }
   ],
   "source": [
    "# Set up code checking\n",
    "import os\n",
    "if not os.path.exists(\"../input/train.csv\"):\n",
    "    os.symlink(\"../input/home-data-for-ml-course/train.csv\", \"../input/train.csv\")  \n",
    "    os.symlink(\"../input/home-data-for-ml-course/test.csv\", \"../input/test.csv\") \n",
    "from learntools.core import binder\n",
    "binder.bind(globals())\n",
    "from learntools.ml_intermediate.ex2 import *\n",
    "print(\"Setup Complete\")"
   ]
  },
  {
   "cell_type": "code",
   "execution_count": 2,
   "id": "3ef41937",
   "metadata": {
    "_cell_guid": "91880dd5-1093-4a19-9509-f7b063c250a8",
    "_uuid": "9af8d3f3-773c-4d6a-a458-70a73e932746",
    "collapsed": false,
    "execution": {
     "iopub.execute_input": "2022-08-04T19:15:20.106142Z",
     "iopub.status.busy": "2022-08-04T19:15:20.105233Z",
     "iopub.status.idle": "2022-08-04T19:15:21.391292Z",
     "shell.execute_reply": "2022-08-04T19:15:21.390033Z"
    },
    "jupyter": {
     "outputs_hidden": false
    },
    "papermill": {
     "duration": 1.301983,
     "end_time": "2022-08-04T19:15:21.394049",
     "exception": false,
     "start_time": "2022-08-04T19:15:20.092066",
     "status": "completed"
    },
    "tags": []
   },
   "outputs": [],
   "source": [
    "import pandas as pd\n",
    "from sklearn.model_selection import train_test_split\n",
    "\n",
    "# Read the data\n",
    "X_full = pd.read_csv('../input/train.csv', index_col='Id')\n",
    "X_test_full = pd.read_csv('../input/test.csv', index_col='Id')\n",
    "\n",
    "# Remove rows with missing target, separate target from predictors\n",
    "X_full.dropna(axis=0, subset=['SalePrice'], inplace=True)\n",
    "y = X_full.SalePrice\n",
    "X_full.drop(['SalePrice'], axis=1, inplace=True)\n",
    "\n",
    "# To keep things simple, we'll use only numerical predictors\n",
    "X = X_full.select_dtypes(exclude=['object'])\n",
    "X_test = X_test_full.select_dtypes(exclude=['object'])\n",
    "\n",
    "# Break off validation set from training data\n",
    "X_train, X_valid, y_train, y_valid = train_test_split(X, y, train_size=0.8, test_size=0.2,\n",
    "                                                      random_state=0)"
   ]
  },
  {
   "cell_type": "markdown",
   "id": "110d968f",
   "metadata": {
    "papermill": {
     "duration": 0.010975,
     "end_time": "2022-08-04T19:15:21.417307",
     "exception": false,
     "start_time": "2022-08-04T19:15:21.406332",
     "status": "completed"
    },
    "tags": []
   },
   "source": []
  },
  {
   "cell_type": "markdown",
   "id": "27f44061",
   "metadata": {
    "_cell_guid": "8b36ac3b-ee56-46f9-94a6-e2f46ab8754a",
    "_uuid": "d466ea04-961d-42c0-a072-c7dae26d3171",
    "papermill": {
     "duration": 0.010903,
     "end_time": "2022-08-04T19:15:21.438578",
     "exception": false,
     "start_time": "2022-08-04T19:15:21.427675",
     "status": "completed"
    },
    "tags": []
   },
   "source": [
    "In this exercise, you will work with data from the [Housing Prices Competition for Kaggle Learn Users](https://www.kaggle.com/c/home-data-for-ml-course). \n",
    "\n",
    "![Ames Housing dataset image](https://i.imgur.com/lTJVG4e.png)\n",
    "\n",
    "Run the next code cell without changes to load the training and validation sets in `X_train`, `X_valid`, `y_train`, and `y_valid`.  The test set is loaded in `X_test`."
   ]
  },
  {
   "cell_type": "markdown",
   "id": "4c52556c",
   "metadata": {
    "_cell_guid": "eddee7bb-2c08-4943-8298-08d899fbcf05",
    "_uuid": "df01a3b5-dd31-479d-ad56-184d0d2b4795",
    "papermill": {
     "duration": 0.009792,
     "end_time": "2022-08-04T19:15:21.458616",
     "exception": false,
     "start_time": "2022-08-04T19:15:21.448824",
     "status": "completed"
    },
    "tags": []
   },
   "source": [
    "Use the next code cell to print the first five rows of the data."
   ]
  },
  {
   "cell_type": "code",
   "execution_count": 3,
   "id": "a1e53f9c",
   "metadata": {
    "_cell_guid": "ddd85f5a-2a6e-43f8-a1a9-d1f6500db078",
    "_uuid": "88542244-1cae-4091-9329-25890c2c4b05",
    "collapsed": false,
    "execution": {
     "iopub.execute_input": "2022-08-04T19:15:21.481902Z",
     "iopub.status.busy": "2022-08-04T19:15:21.481450Z",
     "iopub.status.idle": "2022-08-04T19:15:21.511875Z",
     "shell.execute_reply": "2022-08-04T19:15:21.510679Z"
    },
    "jupyter": {
     "outputs_hidden": false
    },
    "papermill": {
     "duration": 0.044797,
     "end_time": "2022-08-04T19:15:21.514471",
     "exception": false,
     "start_time": "2022-08-04T19:15:21.469674",
     "status": "completed"
    },
    "tags": []
   },
   "outputs": [
    {
     "data": {
      "text/html": [
       "<div>\n",
       "<style scoped>\n",
       "    .dataframe tbody tr th:only-of-type {\n",
       "        vertical-align: middle;\n",
       "    }\n",
       "\n",
       "    .dataframe tbody tr th {\n",
       "        vertical-align: top;\n",
       "    }\n",
       "\n",
       "    .dataframe thead th {\n",
       "        text-align: right;\n",
       "    }\n",
       "</style>\n",
       "<table border=\"1\" class=\"dataframe\">\n",
       "  <thead>\n",
       "    <tr style=\"text-align: right;\">\n",
       "      <th></th>\n",
       "      <th>MSSubClass</th>\n",
       "      <th>LotFrontage</th>\n",
       "      <th>LotArea</th>\n",
       "      <th>OverallQual</th>\n",
       "      <th>OverallCond</th>\n",
       "      <th>YearBuilt</th>\n",
       "      <th>YearRemodAdd</th>\n",
       "      <th>MasVnrArea</th>\n",
       "      <th>BsmtFinSF1</th>\n",
       "      <th>BsmtFinSF2</th>\n",
       "      <th>...</th>\n",
       "      <th>GarageArea</th>\n",
       "      <th>WoodDeckSF</th>\n",
       "      <th>OpenPorchSF</th>\n",
       "      <th>EnclosedPorch</th>\n",
       "      <th>3SsnPorch</th>\n",
       "      <th>ScreenPorch</th>\n",
       "      <th>PoolArea</th>\n",
       "      <th>MiscVal</th>\n",
       "      <th>MoSold</th>\n",
       "      <th>YrSold</th>\n",
       "    </tr>\n",
       "    <tr>\n",
       "      <th>Id</th>\n",
       "      <th></th>\n",
       "      <th></th>\n",
       "      <th></th>\n",
       "      <th></th>\n",
       "      <th></th>\n",
       "      <th></th>\n",
       "      <th></th>\n",
       "      <th></th>\n",
       "      <th></th>\n",
       "      <th></th>\n",
       "      <th></th>\n",
       "      <th></th>\n",
       "      <th></th>\n",
       "      <th></th>\n",
       "      <th></th>\n",
       "      <th></th>\n",
       "      <th></th>\n",
       "      <th></th>\n",
       "      <th></th>\n",
       "      <th></th>\n",
       "      <th></th>\n",
       "    </tr>\n",
       "  </thead>\n",
       "  <tbody>\n",
       "    <tr>\n",
       "      <th>619</th>\n",
       "      <td>20</td>\n",
       "      <td>90.0</td>\n",
       "      <td>11694</td>\n",
       "      <td>9</td>\n",
       "      <td>5</td>\n",
       "      <td>2007</td>\n",
       "      <td>2007</td>\n",
       "      <td>452.0</td>\n",
       "      <td>48</td>\n",
       "      <td>0</td>\n",
       "      <td>...</td>\n",
       "      <td>774</td>\n",
       "      <td>0</td>\n",
       "      <td>108</td>\n",
       "      <td>0</td>\n",
       "      <td>0</td>\n",
       "      <td>260</td>\n",
       "      <td>0</td>\n",
       "      <td>0</td>\n",
       "      <td>7</td>\n",
       "      <td>2007</td>\n",
       "    </tr>\n",
       "    <tr>\n",
       "      <th>871</th>\n",
       "      <td>20</td>\n",
       "      <td>60.0</td>\n",
       "      <td>6600</td>\n",
       "      <td>5</td>\n",
       "      <td>5</td>\n",
       "      <td>1962</td>\n",
       "      <td>1962</td>\n",
       "      <td>0.0</td>\n",
       "      <td>0</td>\n",
       "      <td>0</td>\n",
       "      <td>...</td>\n",
       "      <td>308</td>\n",
       "      <td>0</td>\n",
       "      <td>0</td>\n",
       "      <td>0</td>\n",
       "      <td>0</td>\n",
       "      <td>0</td>\n",
       "      <td>0</td>\n",
       "      <td>0</td>\n",
       "      <td>8</td>\n",
       "      <td>2009</td>\n",
       "    </tr>\n",
       "    <tr>\n",
       "      <th>93</th>\n",
       "      <td>30</td>\n",
       "      <td>80.0</td>\n",
       "      <td>13360</td>\n",
       "      <td>5</td>\n",
       "      <td>7</td>\n",
       "      <td>1921</td>\n",
       "      <td>2006</td>\n",
       "      <td>0.0</td>\n",
       "      <td>713</td>\n",
       "      <td>0</td>\n",
       "      <td>...</td>\n",
       "      <td>432</td>\n",
       "      <td>0</td>\n",
       "      <td>0</td>\n",
       "      <td>44</td>\n",
       "      <td>0</td>\n",
       "      <td>0</td>\n",
       "      <td>0</td>\n",
       "      <td>0</td>\n",
       "      <td>8</td>\n",
       "      <td>2009</td>\n",
       "    </tr>\n",
       "    <tr>\n",
       "      <th>818</th>\n",
       "      <td>20</td>\n",
       "      <td>NaN</td>\n",
       "      <td>13265</td>\n",
       "      <td>8</td>\n",
       "      <td>5</td>\n",
       "      <td>2002</td>\n",
       "      <td>2002</td>\n",
       "      <td>148.0</td>\n",
       "      <td>1218</td>\n",
       "      <td>0</td>\n",
       "      <td>...</td>\n",
       "      <td>857</td>\n",
       "      <td>150</td>\n",
       "      <td>59</td>\n",
       "      <td>0</td>\n",
       "      <td>0</td>\n",
       "      <td>0</td>\n",
       "      <td>0</td>\n",
       "      <td>0</td>\n",
       "      <td>7</td>\n",
       "      <td>2008</td>\n",
       "    </tr>\n",
       "    <tr>\n",
       "      <th>303</th>\n",
       "      <td>20</td>\n",
       "      <td>118.0</td>\n",
       "      <td>13704</td>\n",
       "      <td>7</td>\n",
       "      <td>5</td>\n",
       "      <td>2001</td>\n",
       "      <td>2002</td>\n",
       "      <td>150.0</td>\n",
       "      <td>0</td>\n",
       "      <td>0</td>\n",
       "      <td>...</td>\n",
       "      <td>843</td>\n",
       "      <td>468</td>\n",
       "      <td>81</td>\n",
       "      <td>0</td>\n",
       "      <td>0</td>\n",
       "      <td>0</td>\n",
       "      <td>0</td>\n",
       "      <td>0</td>\n",
       "      <td>1</td>\n",
       "      <td>2006</td>\n",
       "    </tr>\n",
       "  </tbody>\n",
       "</table>\n",
       "<p>5 rows × 36 columns</p>\n",
       "</div>"
      ],
      "text/plain": [
       "     MSSubClass  LotFrontage  LotArea  OverallQual  OverallCond  YearBuilt  \\\n",
       "Id                                                                           \n",
       "619          20         90.0    11694            9            5       2007   \n",
       "871          20         60.0     6600            5            5       1962   \n",
       "93           30         80.0    13360            5            7       1921   \n",
       "818          20          NaN    13265            8            5       2002   \n",
       "303          20        118.0    13704            7            5       2001   \n",
       "\n",
       "     YearRemodAdd  MasVnrArea  BsmtFinSF1  BsmtFinSF2  ...  GarageArea  \\\n",
       "Id                                                     ...               \n",
       "619          2007       452.0          48           0  ...         774   \n",
       "871          1962         0.0           0           0  ...         308   \n",
       "93           2006         0.0         713           0  ...         432   \n",
       "818          2002       148.0        1218           0  ...         857   \n",
       "303          2002       150.0           0           0  ...         843   \n",
       "\n",
       "     WoodDeckSF  OpenPorchSF  EnclosedPorch  3SsnPorch  ScreenPorch  PoolArea  \\\n",
       "Id                                                                              \n",
       "619           0          108              0          0          260         0   \n",
       "871           0            0              0          0            0         0   \n",
       "93            0            0             44          0            0         0   \n",
       "818         150           59              0          0            0         0   \n",
       "303         468           81              0          0            0         0   \n",
       "\n",
       "     MiscVal  MoSold  YrSold  \n",
       "Id                            \n",
       "619        0       7    2007  \n",
       "871        0       8    2009  \n",
       "93         0       8    2009  \n",
       "818        0       7    2008  \n",
       "303        0       1    2006  \n",
       "\n",
       "[5 rows x 36 columns]"
      ]
     },
     "execution_count": 3,
     "metadata": {},
     "output_type": "execute_result"
    }
   ],
   "source": [
    "X_train.head()"
   ]
  },
  {
   "cell_type": "markdown",
   "id": "34e568f1",
   "metadata": {
    "_cell_guid": "36237266-7779-4c1a-8937-518d4710d3c8",
    "_uuid": "d6c0a8fe-ed3b-40d5-82e6-85315e5bf94e",
    "papermill": {
     "duration": 0.010326,
     "end_time": "2022-08-04T19:15:21.535887",
     "exception": false,
     "start_time": "2022-08-04T19:15:21.525561",
     "status": "completed"
    },
    "tags": []
   },
   "source": [
    "You can already see a few missing values in the first several rows.  In the next step, you'll obtain a more comprehensive understanding of the missing values in the dataset.\n",
    "\n",
    "# Step 1: Preliminary investigation\n",
    "\n",
    "Run the code cell below without changes."
   ]
  },
  {
   "cell_type": "code",
   "execution_count": 4,
   "id": "a7036881",
   "metadata": {
    "_cell_guid": "babe393b-71dd-4f8d-825e-4d37aa216ae2",
    "_uuid": "e2175c02-c2bf-4012-a7b7-42a71064f63d",
    "collapsed": false,
    "execution": {
     "iopub.execute_input": "2022-08-04T19:15:21.559006Z",
     "iopub.status.busy": "2022-08-04T19:15:21.558565Z",
     "iopub.status.idle": "2022-08-04T19:15:21.570049Z",
     "shell.execute_reply": "2022-08-04T19:15:21.568927Z"
    },
    "jupyter": {
     "outputs_hidden": false
    },
    "papermill": {
     "duration": 0.026101,
     "end_time": "2022-08-04T19:15:21.572776",
     "exception": false,
     "start_time": "2022-08-04T19:15:21.546675",
     "status": "completed"
    },
    "tags": []
   },
   "outputs": [
    {
     "name": "stdout",
     "output_type": "stream",
     "text": [
      "(1168, 36)\n",
      "LotFrontage    212\n",
      "MasVnrArea       6\n",
      "GarageYrBlt     58\n",
      "dtype: int64\n"
     ]
    }
   ],
   "source": [
    "# Shape of training data (num_rows, num_columns)\n",
    "print(X_train.shape)\n",
    "\n",
    "# Number of missing values in each column of training data\n",
    "missing_val_count_by_column = (X_train.isnull().sum())\n",
    "print(missing_val_count_by_column[missing_val_count_by_column > 0])"
   ]
  },
  {
   "cell_type": "markdown",
   "id": "e331ad1b",
   "metadata": {
    "_cell_guid": "be77cef5-3bdd-47cf-976c-6d1a5c767508",
    "_uuid": "304f4128-ac6e-4be4-900e-ea901b996944",
    "papermill": {
     "duration": 0.010423,
     "end_time": "2022-08-04T19:15:21.593960",
     "exception": false,
     "start_time": "2022-08-04T19:15:21.583537",
     "status": "completed"
    },
    "tags": []
   },
   "source": [
    "### Part A\n",
    "\n",
    "Use the above output to answer the questions below."
   ]
  },
  {
   "cell_type": "code",
   "execution_count": 5,
   "id": "0001bf5f",
   "metadata": {
    "_cell_guid": "35a793f0-bd49-40ab-8388-677af0c649d3",
    "_uuid": "609ef392-3d73-418f-be17-52d440d4ae52",
    "collapsed": false,
    "execution": {
     "iopub.execute_input": "2022-08-04T19:15:21.618086Z",
     "iopub.status.busy": "2022-08-04T19:15:21.616742Z",
     "iopub.status.idle": "2022-08-04T19:15:21.627571Z",
     "shell.execute_reply": "2022-08-04T19:15:21.626662Z"
    },
    "jupyter": {
     "outputs_hidden": false
    },
    "papermill": {
     "duration": 0.025716,
     "end_time": "2022-08-04T19:15:21.630204",
     "exception": false,
     "start_time": "2022-08-04T19:15:21.604488",
     "status": "completed"
    },
    "tags": []
   },
   "outputs": [
    {
     "data": {
      "application/javascript": [
       "parent.postMessage({\"jupyterEvent\": \"custom.exercise_interaction\", \"data\": {\"outcomeType\": 1, \"valueTowardsCompletion\": 1.0, \"interactionType\": 1, \"questionType\": 1, \"questionId\": \"1.1_InvestigateEquality\", \"learnToolsVersion\": \"0.3.4\", \"failureMessage\": \"\", \"exceptionClass\": \"\", \"trace\": \"\"}}, \"*\")"
      ],
      "text/plain": [
       "<IPython.core.display.Javascript object>"
      ]
     },
     "metadata": {},
     "output_type": "display_data"
    },
    {
     "data": {
      "text/markdown": [
       "<span style=\"color:#33cc33\">Correct</span>"
      ],
      "text/plain": [
       "Correct"
      ]
     },
     "metadata": {},
     "output_type": "display_data"
    }
   ],
   "source": [
    "# Fill in the line below: How many rows are in the training data?\n",
    "num_rows = 1168\n",
    "\n",
    "# Fill in the line below: How many columns in the training data\n",
    "# have missing values?\n",
    "num_cols_with_missing = 3\n",
    "\n",
    "# Fill in the line below: How many missing entries are contained in \n",
    "# all of the training data?\n",
    "tot_missing = 276\n",
    "\n",
    "# Check your answers\n",
    "step_1.a.check()"
   ]
  },
  {
   "cell_type": "code",
   "execution_count": 6,
   "id": "d32b76a0",
   "metadata": {
    "_cell_guid": "de7da916-50a2-4069-8558-19a90f69c343",
    "_uuid": "5bea8d6f-5eed-4a74-a13e-8db879b1858a",
    "collapsed": false,
    "execution": {
     "iopub.execute_input": "2022-08-04T19:15:21.655210Z",
     "iopub.status.busy": "2022-08-04T19:15:21.653995Z",
     "iopub.status.idle": "2022-08-04T19:15:21.664242Z",
     "shell.execute_reply": "2022-08-04T19:15:21.662945Z"
    },
    "jupyter": {
     "outputs_hidden": false
    },
    "papermill": {
     "duration": 0.025603,
     "end_time": "2022-08-04T19:15:21.666679",
     "exception": false,
     "start_time": "2022-08-04T19:15:21.641076",
     "status": "completed"
    },
    "tags": []
   },
   "outputs": [
    {
     "data": {
      "application/javascript": [
       "parent.postMessage({\"jupyterEvent\": \"custom.exercise_interaction\", \"data\": {\"interactionType\": 3, \"questionType\": 1, \"questionId\": \"1.1_InvestigateEquality\", \"learnToolsVersion\": \"0.3.4\", \"valueTowardsCompletion\": 0.0, \"failureMessage\": \"\", \"exceptionClass\": \"\", \"trace\": \"\", \"outcomeType\": 4}}, \"*\")"
      ],
      "text/plain": [
       "<IPython.core.display.Javascript object>"
      ]
     },
     "metadata": {},
     "output_type": "display_data"
    },
    {
     "data": {
      "text/markdown": [
       "<span style=\"color:#33cc99\">Solution:</span> \n",
       "```python\n",
       "# How many rows are in the training data?\n",
       "num_rows = 1168\n",
       "\n",
       "# How many columns in the training data have missing values?\n",
       "num_cols_with_missing = 3\n",
       "\n",
       "# How many missing entries are contained in all of the training data?\n",
       "tot_missing = 212 + 6 + 58\n",
       "\n",
       "```"
      ],
      "text/plain": [
       "Solution: \n",
       "```python\n",
       "# How many rows are in the training data?\n",
       "num_rows = 1168\n",
       "\n",
       "# How many columns in the training data have missing values?\n",
       "num_cols_with_missing = 3\n",
       "\n",
       "# How many missing entries are contained in all of the training data?\n",
       "tot_missing = 212 + 6 + 58\n",
       "\n",
       "```"
      ]
     },
     "metadata": {},
     "output_type": "display_data"
    }
   ],
   "source": [
    "# Lines below will give you a hint or solution code\n",
    "#step_1.a.hint()\n",
    "step_1.a.solution()"
   ]
  },
  {
   "cell_type": "markdown",
   "id": "03858621",
   "metadata": {
    "_cell_guid": "4d47564f-9209-4769-ab8a-627786ac74b2",
    "_uuid": "07e1c8b9-ae77-4570-a367-b17764f8b0c3",
    "papermill": {
     "duration": 0.011032,
     "end_time": "2022-08-04T19:15:21.689354",
     "exception": false,
     "start_time": "2022-08-04T19:15:21.678322",
     "status": "completed"
    },
    "tags": []
   },
   "source": [
    "### Part B\n",
    "Considering your answers above, what do you think is likely the best approach to dealing with the missing values?"
   ]
  },
  {
   "cell_type": "code",
   "execution_count": 7,
   "id": "a8329f19",
   "metadata": {
    "_cell_guid": "d1d69f71-f6ea-4f6f-9ea6-e5cadd0dfd2e",
    "_uuid": "98960609-2a31-4baf-967c-fa38b8a5bd15",
    "collapsed": false,
    "execution": {
     "iopub.execute_input": "2022-08-04T19:15:21.714617Z",
     "iopub.status.busy": "2022-08-04T19:15:21.714213Z",
     "iopub.status.idle": "2022-08-04T19:15:21.724521Z",
     "shell.execute_reply": "2022-08-04T19:15:21.723051Z"
    },
    "jupyter": {
     "outputs_hidden": false
    },
    "papermill": {
     "duration": 0.026406,
     "end_time": "2022-08-04T19:15:21.727634",
     "exception": false,
     "start_time": "2022-08-04T19:15:21.701228",
     "status": "completed"
    },
    "tags": []
   },
   "outputs": [
    {
     "data": {
      "application/javascript": [
       "parent.postMessage({\"jupyterEvent\": \"custom.exercise_interaction\", \"data\": {\"outcomeType\": 1, \"valueTowardsCompletion\": 1.0, \"interactionType\": 1, \"questionType\": 4, \"questionId\": \"1.2_InvestigateThought\", \"learnToolsVersion\": \"0.3.4\", \"failureMessage\": \"\", \"exceptionClass\": \"\", \"trace\": \"\"}}, \"*\")"
      ],
      "text/plain": [
       "<IPython.core.display.Javascript object>"
      ]
     },
     "metadata": {},
     "output_type": "display_data"
    },
    {
     "data": {
      "text/markdown": [
       "<span style=\"color:#33cc33\">Correct:</span> \n",
       "\n",
       "Since there are relatively few missing entries in the data (the column with the greatest percentage of missing values is missing less than 20% of its entries), we can expect that dropping columns is unlikely to yield good results.  This is because we'd be throwing away a lot of valuable data, and so imputation will likely perform better."
      ],
      "text/plain": [
       "Correct: \n",
       "\n",
       "Since there are relatively few missing entries in the data (the column with the greatest percentage of missing values is missing less than 20% of its entries), we can expect that dropping columns is unlikely to yield good results.  This is because we'd be throwing away a lot of valuable data, and so imputation will likely perform better."
      ]
     },
     "metadata": {},
     "output_type": "display_data"
    }
   ],
   "source": [
    "# Check your answer (Run this code cell to receive credit!)\n",
    "step_1.b.check()"
   ]
  },
  {
   "cell_type": "code",
   "execution_count": 8,
   "id": "c0fd6248",
   "metadata": {
    "_cell_guid": "bfe81c0f-a14c-49a7-ba5f-5cf005fdec84",
    "_uuid": "14916ab7-4e5e-4541-940f-9e0d82dc9932",
    "collapsed": false,
    "execution": {
     "iopub.execute_input": "2022-08-04T19:15:21.753692Z",
     "iopub.status.busy": "2022-08-04T19:15:21.752916Z",
     "iopub.status.idle": "2022-08-04T19:15:21.757807Z",
     "shell.execute_reply": "2022-08-04T19:15:21.756923Z"
    },
    "jupyter": {
     "outputs_hidden": false
    },
    "papermill": {
     "duration": 0.020067,
     "end_time": "2022-08-04T19:15:21.760187",
     "exception": false,
     "start_time": "2022-08-04T19:15:21.740120",
     "status": "completed"
    },
    "tags": []
   },
   "outputs": [],
   "source": [
    "#step_1.b.hint()"
   ]
  },
  {
   "cell_type": "markdown",
   "id": "7a674aee",
   "metadata": {
    "_cell_guid": "0b4be310-fca8-487f-a3f6-273c8db4d7fb",
    "_uuid": "b651ab76-9901-44ea-aa7e-1a526b27470e",
    "papermill": {
     "duration": 0.011074,
     "end_time": "2022-08-04T19:15:21.782709",
     "exception": false,
     "start_time": "2022-08-04T19:15:21.771635",
     "status": "completed"
    },
    "tags": []
   },
   "source": [
    "To compare different approaches to dealing with missing values, you'll use the same `score_dataset()` function from the tutorial.  This function reports the [mean absolute error](https://en.wikipedia.org/wiki/Mean_absolute_error) (MAE) from a random forest model."
   ]
  },
  {
   "cell_type": "code",
   "execution_count": 9,
   "id": "dacc370a",
   "metadata": {
    "_cell_guid": "b0c0e7b3-dad8-4724-8ba4-2a4f57352b1e",
    "_uuid": "64f46c55-a694-44c8-9cdc-9a9c23e98eee",
    "collapsed": false,
    "execution": {
     "iopub.execute_input": "2022-08-04T19:15:21.807744Z",
     "iopub.status.busy": "2022-08-04T19:15:21.806997Z",
     "iopub.status.idle": "2022-08-04T19:15:22.031218Z",
     "shell.execute_reply": "2022-08-04T19:15:22.030071Z"
    },
    "jupyter": {
     "outputs_hidden": false
    },
    "papermill": {
     "duration": 0.239585,
     "end_time": "2022-08-04T19:15:22.033846",
     "exception": false,
     "start_time": "2022-08-04T19:15:21.794261",
     "status": "completed"
    },
    "tags": []
   },
   "outputs": [],
   "source": [
    "from sklearn.ensemble import RandomForestRegressor\n",
    "from sklearn.metrics import mean_absolute_error\n",
    "\n",
    "# Function for comparing different approaches\n",
    "def score_dataset(X_train, X_valid, y_train, y_valid):\n",
    "    model = RandomForestRegressor(n_estimators=100, random_state=0)\n",
    "    model.fit(X_train, y_train)\n",
    "    preds = model.predict(X_valid)\n",
    "    return mean_absolute_error(y_valid, preds)"
   ]
  },
  {
   "cell_type": "markdown",
   "id": "17bb7676",
   "metadata": {
    "_cell_guid": "4e09581d-d4bc-4af9-bc01-7c9266192730",
    "_uuid": "bbf4bd31-12de-4fc5-b6e1-4338df0f522b",
    "papermill": {
     "duration": 0.011422,
     "end_time": "2022-08-04T19:15:22.057114",
     "exception": false,
     "start_time": "2022-08-04T19:15:22.045692",
     "status": "completed"
    },
    "tags": []
   },
   "source": [
    "# Step 2: Drop columns with missing values\n",
    "\n",
    "In this step, you'll preprocess the data in `X_train` and `X_valid` to remove columns with missing values.  Set the preprocessed DataFrames to `reduced_X_train` and `reduced_X_valid`, respectively."
   ]
  },
  {
   "cell_type": "code",
   "execution_count": 10,
   "id": "0a8d0977",
   "metadata": {
    "_cell_guid": "53dfda43-6921-4bd2-a9ec-e17181fcf5eb",
    "_uuid": "921ddb73-3e5b-423f-80da-0f5e66aa92ec",
    "collapsed": false,
    "execution": {
     "iopub.execute_input": "2022-08-04T19:15:22.081699Z",
     "iopub.status.busy": "2022-08-04T19:15:22.081288Z",
     "iopub.status.idle": "2022-08-04T19:15:22.119187Z",
     "shell.execute_reply": "2022-08-04T19:15:22.117901Z"
    },
    "jupyter": {
     "outputs_hidden": false
    },
    "papermill": {
     "duration": 0.053144,
     "end_time": "2022-08-04T19:15:22.121746",
     "exception": false,
     "start_time": "2022-08-04T19:15:22.068602",
     "status": "completed"
    },
    "tags": []
   },
   "outputs": [
    {
     "data": {
      "application/javascript": [
       "parent.postMessage({\"jupyterEvent\": \"custom.exercise_interaction\", \"data\": {\"outcomeType\": 1, \"valueTowardsCompletion\": 1.0, \"interactionType\": 1, \"questionType\": 2, \"questionId\": \"2_DropMissing\", \"learnToolsVersion\": \"0.3.4\", \"failureMessage\": \"\", \"exceptionClass\": \"\", \"trace\": \"\"}}, \"*\")"
      ],
      "text/plain": [
       "<IPython.core.display.Javascript object>"
      ]
     },
     "metadata": {},
     "output_type": "display_data"
    },
    {
     "data": {
      "text/markdown": [
       "<span style=\"color:#33cc33\">Correct</span>"
      ],
      "text/plain": [
       "Correct"
      ]
     },
     "metadata": {},
     "output_type": "display_data"
    }
   ],
   "source": [
    "# Fill in the line below: get names of columns with missing values\n",
    "____ # Your code here\n",
    "col_with_missing_values = [col for col in X_train.columns if X_train[col].isnull().any()]\n",
    "\n",
    "# Fill in the lines below: drop columns in training and validation data\n",
    "reduced_X_train = X_train.drop(col_with_missing_values, axis=1)\n",
    "reduced_X_valid = X_valid.drop(col_with_missing_values, axis=1)\n",
    "\n",
    "# Check your answers\n",
    "step_2.check()"
   ]
  },
  {
   "cell_type": "code",
   "execution_count": 11,
   "id": "77e6cf62",
   "metadata": {
    "_cell_guid": "bd5c7744-0380-459b-a1e5-631be851af80",
    "_uuid": "92ae6921-275f-4ace-bc05-a3859c2e9673",
    "collapsed": false,
    "execution": {
     "iopub.execute_input": "2022-08-04T19:15:22.147613Z",
     "iopub.status.busy": "2022-08-04T19:15:22.147233Z",
     "iopub.status.idle": "2022-08-04T19:15:22.155339Z",
     "shell.execute_reply": "2022-08-04T19:15:22.154436Z"
    },
    "jupyter": {
     "outputs_hidden": false
    },
    "papermill": {
     "duration": 0.023121,
     "end_time": "2022-08-04T19:15:22.157287",
     "exception": false,
     "start_time": "2022-08-04T19:15:22.134166",
     "status": "completed"
    },
    "tags": []
   },
   "outputs": [
    {
     "data": {
      "application/javascript": [
       "parent.postMessage({\"jupyterEvent\": \"custom.exercise_interaction\", \"data\": {\"interactionType\": 3, \"questionType\": 2, \"questionId\": \"2_DropMissing\", \"learnToolsVersion\": \"0.3.4\", \"valueTowardsCompletion\": 0.0, \"failureMessage\": \"\", \"exceptionClass\": \"\", \"trace\": \"\", \"outcomeType\": 4}}, \"*\")"
      ],
      "text/plain": [
       "<IPython.core.display.Javascript object>"
      ]
     },
     "metadata": {},
     "output_type": "display_data"
    },
    {
     "data": {
      "text/markdown": [
       "<span style=\"color:#33cc99\">Solution:</span> \n",
       "```python\n",
       "# Get names of columns with missing values\n",
       "cols_with_missing = [col for col in X_train.columns\n",
       "                     if X_train[col].isnull().any()]\n",
       "\n",
       "# Drop columns in training and validation data\n",
       "reduced_X_train = X_train.drop(cols_with_missing, axis=1)\n",
       "reduced_X_valid = X_valid.drop(cols_with_missing, axis=1)\n",
       "\n",
       "```"
      ],
      "text/plain": [
       "Solution: \n",
       "```python\n",
       "# Get names of columns with missing values\n",
       "cols_with_missing = [col for col in X_train.columns\n",
       "                     if X_train[col].isnull().any()]\n",
       "\n",
       "# Drop columns in training and validation data\n",
       "reduced_X_train = X_train.drop(cols_with_missing, axis=1)\n",
       "reduced_X_valid = X_valid.drop(cols_with_missing, axis=1)\n",
       "\n",
       "```"
      ]
     },
     "metadata": {},
     "output_type": "display_data"
    }
   ],
   "source": [
    "# Lines below will give you a hint or solution code\n",
    "#step_2.hint()\n",
    "step_2.solution()"
   ]
  },
  {
   "cell_type": "markdown",
   "id": "2af3acbb",
   "metadata": {
    "_cell_guid": "6ed3529d-4667-4a13-878d-bb302cbb8e7b",
    "_uuid": "5839c287-a22d-4d26-95f3-7c61517c0ce2",
    "papermill": {
     "duration": 0.01166,
     "end_time": "2022-08-04T19:15:22.180878",
     "exception": false,
     "start_time": "2022-08-04T19:15:22.169218",
     "status": "completed"
    },
    "tags": []
   },
   "source": [
    "Run the next code cell without changes to obtain the MAE for this approach."
   ]
  },
  {
   "cell_type": "code",
   "execution_count": 12,
   "id": "2452d0a7",
   "metadata": {
    "_cell_guid": "cac3db60-c94b-4c83-9310-2b17752e86e9",
    "_uuid": "15c5eee6-7399-4d99-a3e5-b69a970ee666",
    "collapsed": false,
    "execution": {
     "iopub.execute_input": "2022-08-04T19:15:22.206639Z",
     "iopub.status.busy": "2022-08-04T19:15:22.206229Z",
     "iopub.status.idle": "2022-08-04T19:15:23.328696Z",
     "shell.execute_reply": "2022-08-04T19:15:23.327545Z"
    },
    "jupyter": {
     "outputs_hidden": false
    },
    "papermill": {
     "duration": 1.138621,
     "end_time": "2022-08-04T19:15:23.331406",
     "exception": false,
     "start_time": "2022-08-04T19:15:22.192785",
     "status": "completed"
    },
    "tags": []
   },
   "outputs": [
    {
     "name": "stdout",
     "output_type": "stream",
     "text": [
      "MAE (Drop columns with missing values):\n",
      "17837.82570776256\n"
     ]
    }
   ],
   "source": [
    "print(\"MAE (Drop columns with missing values):\")\n",
    "print(score_dataset(reduced_X_train, reduced_X_valid, y_train, y_valid))"
   ]
  },
  {
   "cell_type": "markdown",
   "id": "5f5bfddc",
   "metadata": {
    "_cell_guid": "a712c78d-eed3-47b5-9b98-5dee07f9cb25",
    "_uuid": "b71b4bd5-dbd5-4d76-83c9-25b6c02f777e",
    "papermill": {
     "duration": 0.011608,
     "end_time": "2022-08-04T19:15:23.355091",
     "exception": false,
     "start_time": "2022-08-04T19:15:23.343483",
     "status": "completed"
    },
    "tags": []
   },
   "source": [
    "# Step 3: Imputation\n",
    "\n",
    "### Part A\n",
    "\n",
    "Use the next code cell to impute missing values with the mean value along each column.  Set the preprocessed DataFrames to `imputed_X_train` and `imputed_X_valid`.  Make sure that the column names match those in `X_train` and `X_valid`."
   ]
  },
  {
   "cell_type": "code",
   "execution_count": 13,
   "id": "032af6b8",
   "metadata": {
    "_cell_guid": "e7fe281e-4625-4e77-bb6c-9ec38c4951cc",
    "_uuid": "dc4a9559-a96e-4895-a79d-b175550a11ae",
    "collapsed": false,
    "execution": {
     "iopub.execute_input": "2022-08-04T19:15:23.380918Z",
     "iopub.status.busy": "2022-08-04T19:15:23.380130Z",
     "iopub.status.idle": "2022-08-04T19:15:23.417351Z",
     "shell.execute_reply": "2022-08-04T19:15:23.415862Z"
    },
    "jupyter": {
     "outputs_hidden": false
    },
    "papermill": {
     "duration": 0.052791,
     "end_time": "2022-08-04T19:15:23.419756",
     "exception": false,
     "start_time": "2022-08-04T19:15:23.366965",
     "status": "completed"
    },
    "tags": []
   },
   "outputs": [
    {
     "data": {
      "application/javascript": [
       "parent.postMessage({\"jupyterEvent\": \"custom.exercise_interaction\", \"data\": {\"outcomeType\": 1, \"valueTowardsCompletion\": 1.0, \"interactionType\": 1, \"questionType\": 2, \"questionId\": \"3.1_ImputeCode\", \"learnToolsVersion\": \"0.3.4\", \"failureMessage\": \"\", \"exceptionClass\": \"\", \"trace\": \"\"}}, \"*\")"
      ],
      "text/plain": [
       "<IPython.core.display.Javascript object>"
      ]
     },
     "metadata": {},
     "output_type": "display_data"
    },
    {
     "data": {
      "text/markdown": [
       "<span style=\"color:#33cc33\">Correct</span>"
      ],
      "text/plain": [
       "Correct"
      ]
     },
     "metadata": {},
     "output_type": "display_data"
    }
   ],
   "source": [
    "from sklearn.impute import SimpleImputer\n",
    "\n",
    "# Fill in the lines below: imputation\n",
    "____ # Your code here\n",
    "my_imputer = SimpleImputer()\n",
    "imputed_X_train = pd.DataFrame(my_imputer.fit_transform(X_train))\n",
    "imputed_X_valid = pd.DataFrame(my_imputer.transform(X_valid))\n",
    "\n",
    "\n",
    "# Fill in the lines below: imputation removed column names; put them back\n",
    "imputed_X_train.columns = X_train.columns\n",
    "imputed_X_valid.columns = X_valid.columns\n",
    "\n",
    "# Check your answers\n",
    "step_3.a.check()"
   ]
  },
  {
   "cell_type": "code",
   "execution_count": 14,
   "id": "6930549e",
   "metadata": {
    "_cell_guid": "a8213961-e9ef-4694-91cc-14aab7d4250b",
    "_uuid": "8f882fe1-ae2a-4185-84f5-20475938f1a6",
    "collapsed": false,
    "execution": {
     "iopub.execute_input": "2022-08-04T19:15:23.446257Z",
     "iopub.status.busy": "2022-08-04T19:15:23.445810Z",
     "iopub.status.idle": "2022-08-04T19:15:23.456693Z",
     "shell.execute_reply": "2022-08-04T19:15:23.455531Z"
    },
    "jupyter": {
     "outputs_hidden": false
    },
    "papermill": {
     "duration": 0.027147,
     "end_time": "2022-08-04T19:15:23.459160",
     "exception": false,
     "start_time": "2022-08-04T19:15:23.432013",
     "status": "completed"
    },
    "tags": []
   },
   "outputs": [
    {
     "data": {
      "application/javascript": [
       "parent.postMessage({\"jupyterEvent\": \"custom.exercise_interaction\", \"data\": {\"interactionType\": 3, \"questionType\": 2, \"questionId\": \"3.1_ImputeCode\", \"learnToolsVersion\": \"0.3.4\", \"valueTowardsCompletion\": 0.0, \"failureMessage\": \"\", \"exceptionClass\": \"\", \"trace\": \"\", \"outcomeType\": 4}}, \"*\")"
      ],
      "text/plain": [
       "<IPython.core.display.Javascript object>"
      ]
     },
     "metadata": {},
     "output_type": "display_data"
    },
    {
     "data": {
      "text/markdown": [
       "<span style=\"color:#33cc99\">Solution:</span> \n",
       "```python\n",
       "# Imputation\n",
       "my_imputer = SimpleImputer()\n",
       "imputed_X_train = pd.DataFrame(my_imputer.fit_transform(X_train))\n",
       "imputed_X_valid = pd.DataFrame(my_imputer.transform(X_valid))\n",
       "\n",
       "# Imputation removed column names; put them back\n",
       "imputed_X_train.columns = X_train.columns\n",
       "imputed_X_valid.columns = X_valid.columns\n",
       "\n",
       "```"
      ],
      "text/plain": [
       "Solution: \n",
       "```python\n",
       "# Imputation\n",
       "my_imputer = SimpleImputer()\n",
       "imputed_X_train = pd.DataFrame(my_imputer.fit_transform(X_train))\n",
       "imputed_X_valid = pd.DataFrame(my_imputer.transform(X_valid))\n",
       "\n",
       "# Imputation removed column names; put them back\n",
       "imputed_X_train.columns = X_train.columns\n",
       "imputed_X_valid.columns = X_valid.columns\n",
       "\n",
       "```"
      ]
     },
     "metadata": {},
     "output_type": "display_data"
    }
   ],
   "source": [
    "# Lines below will give you a hint or solution code\n",
    "#step_3.a.hint()\n",
    "step_3.a.solution()"
   ]
  },
  {
   "cell_type": "markdown",
   "id": "2fb8ac6b",
   "metadata": {
    "_cell_guid": "c7801224-dfc8-4db1-81b5-cc8f93f238f9",
    "_uuid": "5d53bf2e-cc2b-424a-861c-4d87207604ad",
    "papermill": {
     "duration": 0.011957,
     "end_time": "2022-08-04T19:15:23.483541",
     "exception": false,
     "start_time": "2022-08-04T19:15:23.471584",
     "status": "completed"
    },
    "tags": []
   },
   "source": [
    "Run the next code cell without changes to obtain the MAE for this approach."
   ]
  },
  {
   "cell_type": "code",
   "execution_count": 15,
   "id": "ac0aaaee",
   "metadata": {
    "_cell_guid": "257f069b-ee60-465b-9954-89de07dea71e",
    "_uuid": "9ec8e264-d135-44fd-b8fd-9bc9a35a95ff",
    "collapsed": false,
    "execution": {
     "iopub.execute_input": "2022-08-04T19:15:23.512022Z",
     "iopub.status.busy": "2022-08-04T19:15:23.511314Z",
     "iopub.status.idle": "2022-08-04T19:15:24.747941Z",
     "shell.execute_reply": "2022-08-04T19:15:24.746125Z"
    },
    "jupyter": {
     "outputs_hidden": false
    },
    "papermill": {
     "duration": 1.254536,
     "end_time": "2022-08-04T19:15:24.750964",
     "exception": false,
     "start_time": "2022-08-04T19:15:23.496428",
     "status": "completed"
    },
    "tags": []
   },
   "outputs": [
    {
     "name": "stdout",
     "output_type": "stream",
     "text": [
      "MAE (Imputation):\n",
      "18062.894611872147\n"
     ]
    }
   ],
   "source": [
    "print(\"MAE (Imputation):\")\n",
    "print(score_dataset(imputed_X_train, imputed_X_valid, y_train, y_valid))"
   ]
  },
  {
   "cell_type": "markdown",
   "id": "7243c007",
   "metadata": {
    "_cell_guid": "81296c9e-99a7-4633-b54b-d19a60409d04",
    "_uuid": "5b29dd3f-8ccd-45ac-8679-4a467b6f97b9",
    "papermill": {
     "duration": 0.013131,
     "end_time": "2022-08-04T19:15:24.777751",
     "exception": false,
     "start_time": "2022-08-04T19:15:24.764620",
     "status": "completed"
    },
    "tags": []
   },
   "source": [
    "### Part B\n",
    "\n",
    "Compare the MAE from each approach.  Does anything surprise you about the results?  Why do you think one approach performed better than the other?"
   ]
  },
  {
   "cell_type": "code",
   "execution_count": 16,
   "id": "1eb31a54",
   "metadata": {
    "_cell_guid": "ab44df1a-226a-4fe1-8adf-6aea7ab48da9",
    "_uuid": "12a82714-ce4d-4952-8237-acaacd2ad762",
    "collapsed": false,
    "execution": {
     "iopub.execute_input": "2022-08-04T19:15:24.808664Z",
     "iopub.status.busy": "2022-08-04T19:15:24.807536Z",
     "iopub.status.idle": "2022-08-04T19:15:24.816582Z",
     "shell.execute_reply": "2022-08-04T19:15:24.815383Z"
    },
    "jupyter": {
     "outputs_hidden": false
    },
    "papermill": {
     "duration": 0.028197,
     "end_time": "2022-08-04T19:15:24.819412",
     "exception": false,
     "start_time": "2022-08-04T19:15:24.791215",
     "status": "completed"
    },
    "tags": []
   },
   "outputs": [
    {
     "data": {
      "application/javascript": [
       "parent.postMessage({\"jupyterEvent\": \"custom.exercise_interaction\", \"data\": {\"outcomeType\": 1, \"valueTowardsCompletion\": 1.0, \"interactionType\": 1, \"questionType\": 4, \"questionId\": \"3.2_ImputeThought\", \"learnToolsVersion\": \"0.3.4\", \"failureMessage\": \"\", \"exceptionClass\": \"\", \"trace\": \"\"}}, \"*\")"
      ],
      "text/plain": [
       "<IPython.core.display.Javascript object>"
      ]
     },
     "metadata": {},
     "output_type": "display_data"
    },
    {
     "data": {
      "text/markdown": [
       "<span style=\"color:#33cc33\">Correct:</span> \n",
       "\n",
       "Given that thre are so few missing values in the dataset, we'd expect imputation to perform better than dropping columns entirely.  However, we see that dropping columns performs slightly better!  While this can probably partially be attributed to noise in the dataset, another potential explanation is that the imputation method is not a great match to this dataset.  That is, maybe instead of filling in the mean value, it makes more sense to set every missing value to a value of 0, to fill in the most frequently encountered value, or to use some other method.  For instance, consider the `GarageYrBlt` column (which indicates the year that the garage was built).  It's likely that in some cases, a missing value could indicate a house that does not have a garage.  Does it make more sense to fill in the median value along each column in this case?  Or could we get better results by filling in the minimum value along each column?  It's not quite clear what's best in this case, but perhaps we can rule out some options immediately - for instance, setting missing values in this column to 0 is likely to yield horrible results!"
      ],
      "text/plain": [
       "Correct: \n",
       "\n",
       "Given that thre are so few missing values in the dataset, we'd expect imputation to perform better than dropping columns entirely.  However, we see that dropping columns performs slightly better!  While this can probably partially be attributed to noise in the dataset, another potential explanation is that the imputation method is not a great match to this dataset.  That is, maybe instead of filling in the mean value, it makes more sense to set every missing value to a value of 0, to fill in the most frequently encountered value, or to use some other method.  For instance, consider the `GarageYrBlt` column (which indicates the year that the garage was built).  It's likely that in some cases, a missing value could indicate a house that does not have a garage.  Does it make more sense to fill in the median value along each column in this case?  Or could we get better results by filling in the minimum value along each column?  It's not quite clear what's best in this case, but perhaps we can rule out some options immediately - for instance, setting missing values in this column to 0 is likely to yield horrible results!"
      ]
     },
     "metadata": {},
     "output_type": "display_data"
    }
   ],
   "source": [
    "# Check your answer (Run this code cell to receive credit!)\n",
    "step_3.b.check()"
   ]
  },
  {
   "cell_type": "code",
   "execution_count": 17,
   "id": "452b2ecb",
   "metadata": {
    "_cell_guid": "fbeef4c1-02a4-49e1-8506-08d20643f66a",
    "_uuid": "8d7bbb3e-1584-4243-80ca-9d0b3418bcb1",
    "collapsed": false,
    "execution": {
     "iopub.execute_input": "2022-08-04T19:15:24.851333Z",
     "iopub.status.busy": "2022-08-04T19:15:24.850054Z",
     "iopub.status.idle": "2022-08-04T19:15:24.855997Z",
     "shell.execute_reply": "2022-08-04T19:15:24.854679Z"
    },
    "jupyter": {
     "outputs_hidden": false
    },
    "papermill": {
     "duration": 0.025736,
     "end_time": "2022-08-04T19:15:24.859578",
     "exception": false,
     "start_time": "2022-08-04T19:15:24.833842",
     "status": "completed"
    },
    "tags": []
   },
   "outputs": [],
   "source": [
    "#step_3.b.hint()"
   ]
  },
  {
   "cell_type": "markdown",
   "id": "f3a3f776",
   "metadata": {
    "_cell_guid": "4e218b5c-3641-4656-a1e1-86eea87d0056",
    "_uuid": "2ee3e0cb-f799-4da5-9c17-17fe19d75919",
    "papermill": {
     "duration": 0.014569,
     "end_time": "2022-08-04T19:15:24.888261",
     "exception": false,
     "start_time": "2022-08-04T19:15:24.873692",
     "status": "completed"
    },
    "tags": []
   },
   "source": [
    "# Step 4: Generate test predictions\n",
    "\n",
    "In this final step, you'll use any approach of your choosing to deal with missing values.  Once you've preprocessed the training and validation features, you'll train and evaluate a random forest model.  Then, you'll preprocess the test data before generating predictions that can be submitted to the competition!\n",
    "\n",
    "### Part A\n",
    "\n",
    "Use the next code cell to preprocess the training and validation data.  Set the preprocessed DataFrames to `final_X_train` and `final_X_valid`.  **You can use any approach of your choosing here!**  in order for this step to be marked as correct, you need only ensure:\n",
    "- the preprocessed DataFrames have the same number of columns,\n",
    "- the preprocessed DataFrames have no missing values, \n",
    "- `final_X_train` and `y_train` have the same number of rows, and\n",
    "- `final_X_valid` and `y_valid` have the same number of rows."
   ]
  },
  {
   "cell_type": "code",
   "execution_count": 18,
   "id": "4ef99d9f",
   "metadata": {
    "_cell_guid": "761f561a-6ac6-464a-8113-1446b78ee217",
    "_uuid": "cc917d4a-6039-4b5c-9421-cd5ad5c61c8b",
    "collapsed": false,
    "execution": {
     "iopub.execute_input": "2022-08-04T19:15:24.918926Z",
     "iopub.status.busy": "2022-08-04T19:15:24.918430Z",
     "iopub.status.idle": "2022-08-04T19:15:24.960541Z",
     "shell.execute_reply": "2022-08-04T19:15:24.959174Z"
    },
    "jupyter": {
     "outputs_hidden": false
    },
    "papermill": {
     "duration": 0.060258,
     "end_time": "2022-08-04T19:15:24.963223",
     "exception": false,
     "start_time": "2022-08-04T19:15:24.902965",
     "status": "completed"
    },
    "tags": []
   },
   "outputs": [
    {
     "data": {
      "application/javascript": [
       "parent.postMessage({\"jupyterEvent\": \"custom.exercise_interaction\", \"data\": {\"outcomeType\": 1, \"valueTowardsCompletion\": 1.0, \"interactionType\": 1, \"questionType\": 2, \"questionId\": \"4.1_PredsCodeA\", \"learnToolsVersion\": \"0.3.4\", \"failureMessage\": \"\", \"exceptionClass\": \"\", \"trace\": \"\"}}, \"*\")"
      ],
      "text/plain": [
       "<IPython.core.display.Javascript object>"
      ]
     },
     "metadata": {},
     "output_type": "display_data"
    },
    {
     "data": {
      "text/markdown": [
       "<span style=\"color:#33cc33\">Correct</span>"
      ],
      "text/plain": [
       "Correct"
      ]
     },
     "metadata": {},
     "output_type": "display_data"
    }
   ],
   "source": [
    "# Preprocessed training and validation features\n",
    "\n",
    "# Replace the null value for garages' year by the min one, trying to use value depreciation over time \n",
    "# instead of null value or mean value\n",
    "main_Imputer = SimpleImputer(strategy = \"median\")\n",
    "min_garage_year = min(X_train.GarageYrBlt)\n",
    "X_train.GarageYrBlt.fillna(min_garage_year)\n",
    "X_valid.GarageYrBlt.fillna(min_garage_year)\n",
    "\n",
    "final_X_train = pd.DataFrame(main_Imputer.fit_transform(X_train))\n",
    "final_X_valid = pd.DataFrame(main_Imputer.transform(X_valid))\n",
    "\n",
    "# Imputation removed named from columns...\n",
    "final_X_train.columns = X_train.columns\n",
    "final_X_valid.columns = X_valid.columns\n",
    "\n",
    "\n",
    "\n",
    "# Check your answers\n",
    "step_4.a.check()"
   ]
  },
  {
   "cell_type": "code",
   "execution_count": 19,
   "id": "cc9a5663",
   "metadata": {
    "_cell_guid": "419a2523-86aa-4cd3-a9c3-d7e0db57004e",
    "_uuid": "0ca29bdc-f36f-44dc-924e-b5d3b41807e0",
    "collapsed": false,
    "execution": {
     "iopub.execute_input": "2022-08-04T19:15:24.993019Z",
     "iopub.status.busy": "2022-08-04T19:15:24.992376Z",
     "iopub.status.idle": "2022-08-04T19:15:25.000104Z",
     "shell.execute_reply": "2022-08-04T19:15:24.999110Z"
    },
    "jupyter": {
     "outputs_hidden": false
    },
    "papermill": {
     "duration": 0.025909,
     "end_time": "2022-08-04T19:15:25.002700",
     "exception": false,
     "start_time": "2022-08-04T19:15:24.976791",
     "status": "completed"
    },
    "tags": []
   },
   "outputs": [
    {
     "data": {
      "application/javascript": [
       "parent.postMessage({\"jupyterEvent\": \"custom.exercise_interaction\", \"data\": {\"interactionType\": 3, \"questionType\": 2, \"questionId\": \"4.1_PredsCodeA\", \"learnToolsVersion\": \"0.3.4\", \"valueTowardsCompletion\": 0.0, \"failureMessage\": \"\", \"exceptionClass\": \"\", \"trace\": \"\", \"outcomeType\": 4}}, \"*\")"
      ],
      "text/plain": [
       "<IPython.core.display.Javascript object>"
      ]
     },
     "metadata": {},
     "output_type": "display_data"
    },
    {
     "data": {
      "text/markdown": [
       "<span style=\"color:#33cc99\">Solution:</span> \n",
       "```python\n",
       "# Imputation\n",
       "final_imputer = SimpleImputer(strategy='median')\n",
       "final_X_train = pd.DataFrame(final_imputer.fit_transform(X_train))\n",
       "final_X_valid = pd.DataFrame(final_imputer.transform(X_valid))\n",
       "\n",
       "# Imputation removed column names; put them back\n",
       "final_X_train.columns = X_train.columns\n",
       "final_X_valid.columns = X_valid.columns\n",
       "\n",
       "```"
      ],
      "text/plain": [
       "Solution: \n",
       "```python\n",
       "# Imputation\n",
       "final_imputer = SimpleImputer(strategy='median')\n",
       "final_X_train = pd.DataFrame(final_imputer.fit_transform(X_train))\n",
       "final_X_valid = pd.DataFrame(final_imputer.transform(X_valid))\n",
       "\n",
       "# Imputation removed column names; put them back\n",
       "final_X_train.columns = X_train.columns\n",
       "final_X_valid.columns = X_valid.columns\n",
       "\n",
       "```"
      ]
     },
     "metadata": {},
     "output_type": "display_data"
    }
   ],
   "source": [
    "# Lines below will give you a hint or solution code\n",
    "#step_4.a.hint()\n",
    "step_4.a.solution()"
   ]
  },
  {
   "cell_type": "markdown",
   "id": "2a4c21f8",
   "metadata": {
    "_cell_guid": "ad65ce8f-7194-4630-a2ed-403487049661",
    "_uuid": "f3a95222-c858-47d3-b1c9-43be5e0dffad",
    "papermill": {
     "duration": 0.013239,
     "end_time": "2022-08-04T19:15:25.029786",
     "exception": false,
     "start_time": "2022-08-04T19:15:25.016547",
     "status": "completed"
    },
    "tags": []
   },
   "source": [
    "Run the next code cell to train and evaluate a random forest model.  (*Note that we don't use the `score_dataset()` function above, because we will soon use the trained model to generate test predictions!*)"
   ]
  },
  {
   "cell_type": "code",
   "execution_count": 20,
   "id": "dd2fccae",
   "metadata": {
    "_cell_guid": "78a58dc8-1050-4a96-a8e1-34cd9d6a1d1d",
    "_uuid": "c9484f0e-5ac7-41bd-b544-b52ddc5fe709",
    "collapsed": false,
    "execution": {
     "iopub.execute_input": "2022-08-04T19:15:25.061741Z",
     "iopub.status.busy": "2022-08-04T19:15:25.060802Z",
     "iopub.status.idle": "2022-08-04T19:15:26.296008Z",
     "shell.execute_reply": "2022-08-04T19:15:26.294707Z"
    },
    "jupyter": {
     "outputs_hidden": false
    },
    "papermill": {
     "duration": 1.253722,
     "end_time": "2022-08-04T19:15:26.298625",
     "exception": false,
     "start_time": "2022-08-04T19:15:25.044903",
     "status": "completed"
    },
    "tags": []
   },
   "outputs": [
    {
     "name": "stdout",
     "output_type": "stream",
     "text": [
      "MAE (Your approach):\n",
      "17791.59899543379\n"
     ]
    }
   ],
   "source": [
    "# Define and fit model\n",
    "model = RandomForestRegressor(n_estimators=100, random_state=0)\n",
    "model.fit(final_X_train, y_train)\n",
    "\n",
    "# Get validation predictions and MAE\n",
    "preds_valid = model.predict(final_X_valid)\n",
    "print(\"MAE (Your approach):\")\n",
    "print(mean_absolute_error(y_valid, preds_valid))"
   ]
  },
  {
   "cell_type": "markdown",
   "id": "5e4c80ff",
   "metadata": {
    "_cell_guid": "91948b2b-1d18-475b-a295-dba2d2e5ef37",
    "_uuid": "5916b83b-adc0-4b0e-a55e-1dac58b7ac17",
    "papermill": {
     "duration": 0.013062,
     "end_time": "2022-08-04T19:15:26.325110",
     "exception": false,
     "start_time": "2022-08-04T19:15:26.312048",
     "status": "completed"
    },
    "tags": []
   },
   "source": [
    "### Part B\n",
    "\n",
    "Use the next code cell to preprocess your test data.  Make sure that you use a method that agrees with how you preprocessed the training and validation data, and set the preprocessed test features to `final_X_test`.\n",
    "\n",
    "Then, use the preprocessed test features and the trained model to generate test predictions in `preds_test`.\n",
    "\n",
    "In order for this step to be marked correct, you need only ensure:\n",
    "- the preprocessed test DataFrame has no missing values, and\n",
    "- `final_X_test` has the same number of rows as `X_test`."
   ]
  },
  {
   "cell_type": "code",
   "execution_count": 21,
   "id": "0e7ed26d",
   "metadata": {
    "_cell_guid": "cb41f108-5e96-41f1-b63a-ba20d2347aaf",
    "_uuid": "b8aad77e-bb1f-4c53-8cbe-42b6cf2a3746",
    "collapsed": false,
    "execution": {
     "iopub.execute_input": "2022-08-04T19:15:26.354636Z",
     "iopub.status.busy": "2022-08-04T19:15:26.353832Z",
     "iopub.status.idle": "2022-08-04T19:15:26.419642Z",
     "shell.execute_reply": "2022-08-04T19:15:26.418321Z"
    },
    "jupyter": {
     "outputs_hidden": false
    },
    "papermill": {
     "duration": 0.083646,
     "end_time": "2022-08-04T19:15:26.422050",
     "exception": false,
     "start_time": "2022-08-04T19:15:26.338404",
     "status": "completed"
    },
    "tags": []
   },
   "outputs": [
    {
     "data": {
      "application/javascript": [
       "parent.postMessage({\"jupyterEvent\": \"custom.exercise_interaction\", \"data\": {\"outcomeType\": 1, \"valueTowardsCompletion\": 1.0, \"interactionType\": 1, \"questionType\": 2, \"questionId\": \"4.2_PredsCodeB\", \"learnToolsVersion\": \"0.3.4\", \"failureMessage\": \"\", \"exceptionClass\": \"\", \"trace\": \"\"}}, \"*\")"
      ],
      "text/plain": [
       "<IPython.core.display.Javascript object>"
      ]
     },
     "metadata": {},
     "output_type": "display_data"
    },
    {
     "data": {
      "text/markdown": [
       "<span style=\"color:#33cc33\">Correct</span>"
      ],
      "text/plain": [
       "Correct"
      ]
     },
     "metadata": {},
     "output_type": "display_data"
    }
   ],
   "source": [
    "# Fill in the line below: preprocess test data\n",
    "final_Imputer = SimpleImputer(strategy = \"median\")\n",
    "X_test.GarageYrBlt.fillna(min_garage_year)\n",
    "\n",
    "final_X_test = pd.DataFrame(main_Imputer.fit_transform(X_test))\n",
    "\n",
    "# Imputation removed named from columns...\n",
    "final_X_test.columns = X_test.columns\n",
    "\n",
    "\n",
    "# Fill in the line below: get test predictions\n",
    "preds_test = model.predict(final_X_test)\n",
    "\n",
    "# Check your answers\n",
    "step_4.b.check()"
   ]
  },
  {
   "cell_type": "code",
   "execution_count": 22,
   "id": "b5ed22c1",
   "metadata": {
    "_cell_guid": "ddb9a494-a421-4024-bc64-473f5f6216cf",
    "_uuid": "27eab6d6-9843-45ae-86c2-f204ad62d169",
    "collapsed": false,
    "execution": {
     "iopub.execute_input": "2022-08-04T19:15:26.452902Z",
     "iopub.status.busy": "2022-08-04T19:15:26.452443Z",
     "iopub.status.idle": "2022-08-04T19:15:26.457406Z",
     "shell.execute_reply": "2022-08-04T19:15:26.456099Z"
    },
    "jupyter": {
     "outputs_hidden": false
    },
    "papermill": {
     "duration": 0.023947,
     "end_time": "2022-08-04T19:15:26.459828",
     "exception": false,
     "start_time": "2022-08-04T19:15:26.435881",
     "status": "completed"
    },
    "tags": []
   },
   "outputs": [],
   "source": [
    "# Lines below will give you a hint or solution code\n",
    "#step_4.b.hint()\n",
    "#step_4.b.solution()"
   ]
  },
  {
   "cell_type": "markdown",
   "id": "36cc0149",
   "metadata": {
    "_cell_guid": "f547c0fa-cfe5-439d-93c2-1c0d3488412b",
    "_uuid": "550c3e91-dc95-4bfd-8c67-ace4d23ab571",
    "papermill": {
     "duration": 0.013511,
     "end_time": "2022-08-04T19:15:26.487217",
     "exception": false,
     "start_time": "2022-08-04T19:15:26.473706",
     "status": "completed"
    },
    "tags": []
   },
   "source": [
    "Run the next code cell without changes to save your results to a CSV file that can be submitted directly to the competition."
   ]
  },
  {
   "cell_type": "code",
   "execution_count": 23,
   "id": "16a8b1ad",
   "metadata": {
    "_cell_guid": "0e3ac80b-ce25-49e3-8449-4b1cf44da4f1",
    "_uuid": "6cbfb544-4319-4bb1-900f-ed1bd9fc3873",
    "collapsed": false,
    "execution": {
     "iopub.execute_input": "2022-08-04T19:15:26.518575Z",
     "iopub.status.busy": "2022-08-04T19:15:26.517892Z",
     "iopub.status.idle": "2022-08-04T19:15:26.532025Z",
     "shell.execute_reply": "2022-08-04T19:15:26.530788Z"
    },
    "jupyter": {
     "outputs_hidden": false
    },
    "papermill": {
     "duration": 0.03273,
     "end_time": "2022-08-04T19:15:26.534652",
     "exception": false,
     "start_time": "2022-08-04T19:15:26.501922",
     "status": "completed"
    },
    "tags": []
   },
   "outputs": [],
   "source": [
    "# Save test predictions to file\n",
    "output = pd.DataFrame({'Id': X_test.index,\n",
    "                       'SalePrice': preds_test})\n",
    "output.to_csv('submission.csv', index=False)"
   ]
  },
  {
   "cell_type": "markdown",
   "id": "10baabad",
   "metadata": {
    "_cell_guid": "5163cfa4-54bb-49ec-a6fd-072c2c383505",
    "_uuid": "3c012bcf-19ff-4402-b2f8-6534c13aab54",
    "papermill": {
     "duration": 0.013372,
     "end_time": "2022-08-04T19:15:26.561890",
     "exception": false,
     "start_time": "2022-08-04T19:15:26.548518",
     "status": "completed"
    },
    "tags": []
   },
   "source": [
    "# Submit your results\n",
    "\n",
    "Once you have successfully completed Step 4, you're ready to submit your results to the leaderboard!  (_You also learned how to do this in the previous exercise.  If you need a reminder of how to do this, please use the instructions below._)  \n",
    "\n",
    "First, you'll need to join the competition if you haven't already.  So open a new window by clicking on [this link](https://www.kaggle.com/c/home-data-for-ml-course).  Then click on the **Join Competition** button.\n",
    "\n",
    "![join competition image](https://i.imgur.com/wLmFtH3.png)\n",
    "\n",
    "Next, follow the instructions below:\n",
    "1. Begin by clicking on the **Save Version** button in the top right corner of the window.  This will generate a pop-up window.  \n",
    "2. Ensure that the **Save and Run All** option is selected, and then click on the **Save** button.\n",
    "3. This generates a window in the bottom left corner of the notebook.  After it has finished running, click on the number to the right of the **Save Version** button.  This pulls up a list of versions on the right of the screen.  Click on the ellipsis **(...)** to the right of the most recent version, and select **Open in Viewer**.  This brings you into view mode of the same page. You will need to scroll down to get back to these instructions.\n",
    "4. Click on the **Output** tab on the right of the screen.  Then, click on the file you would like to submit, and click on the **Submit** button to submit your results to the leaderboard.\n",
    "\n",
    "You have now successfully submitted to the competition!\n",
    "\n",
    "If you want to keep working to improve your performance, select the **Edit** button in the top right of the screen. Then you can change your code and repeat the process. There's a lot of room to improve, and you will climb up the leaderboard as you work.\n",
    "\n",
    "\n",
    "# Keep going\n",
    "\n",
    "Move on to learn what **[categorical variables](https://www.kaggle.com/alexisbcook/categorical-variables)** are, along with how to incorporate them into your machine learning models.  Categorical variables are very common in real-world data, but you'll get an error if you try to plug them into your models without processing them first!"
   ]
  },
  {
   "cell_type": "markdown",
   "id": "22197548",
   "metadata": {
    "_cell_guid": "2a06b956-9d91-47e9-9f9a-66dd506e9b72",
    "_uuid": "218bcadd-6b20-4b48-8fad-c99676ab8420",
    "papermill": {
     "duration": 0.013898,
     "end_time": "2022-08-04T19:15:26.590106",
     "exception": false,
     "start_time": "2022-08-04T19:15:26.576208",
     "status": "completed"
    },
    "tags": []
   },
   "source": [
    "---\n",
    "\n",
    "\n",
    "\n",
    "\n",
    "*Have questions or comments? Visit the [course discussion forum](https://www.kaggle.com/learn/intermediate-machine-learning/discussion) to chat with other learners.*"
   ]
  }
 ],
 "metadata": {
  "kernelspec": {
   "display_name": "Python 3",
   "language": "python",
   "name": "python3"
  },
  "language_info": {
   "codemirror_mode": {
    "name": "ipython",
    "version": 3
   },
   "file_extension": ".py",
   "mimetype": "text/x-python",
   "name": "python",
   "nbconvert_exporter": "python",
   "pygments_lexer": "ipython3",
   "version": "3.7.12"
  },
  "papermill": {
   "default_parameters": {},
   "duration": 17.802379,
   "end_time": "2022-08-04T19:15:27.326642",
   "environment_variables": {},
   "exception": null,
   "input_path": "__notebook__.ipynb",
   "output_path": "__notebook__.ipynb",
   "parameters": {},
   "start_time": "2022-08-04T19:15:09.524263",
   "version": "2.3.4"
  }
 },
 "nbformat": 4,
 "nbformat_minor": 5
}
