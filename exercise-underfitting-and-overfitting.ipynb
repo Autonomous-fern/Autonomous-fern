{
 "cells": [
  {
   "cell_type": "markdown",
   "id": "fb715517",
   "metadata": {
    "papermill": {
     "duration": 0.005493,
     "end_time": "2022-08-01T15:22:55.185537",
     "exception": false,
     "start_time": "2022-08-01T15:22:55.180044",
     "status": "completed"
    },
    "tags": []
   },
   "source": [
    "**This notebook is an exercise in the [Introduction to Machine Learning](https://www.kaggle.com/learn/intro-to-machine-learning) course.  You can reference the tutorial at [this link](https://www.kaggle.com/dansbecker/underfitting-and-overfitting).**\n",
    "\n",
    "---\n"
   ]
  },
  {
   "cell_type": "markdown",
   "id": "0b6757c4",
   "metadata": {
    "papermill": {
     "duration": 0.0042,
     "end_time": "2022-08-01T15:22:55.194548",
     "exception": false,
     "start_time": "2022-08-01T15:22:55.190348",
     "status": "completed"
    },
    "tags": []
   },
   "source": [
    "## Recap\n",
    "You've built your first model, and now it's time to optimize the size of the tree to make better predictions. Run this cell to set up your coding environment where the previous step left off."
   ]
  },
  {
   "cell_type": "code",
   "execution_count": 1,
   "id": "33e4cdec",
   "metadata": {
    "execution": {
     "iopub.execute_input": "2022-08-01T15:22:55.206256Z",
     "iopub.status.busy": "2022-08-01T15:22:55.205375Z",
     "iopub.status.idle": "2022-08-01T15:22:56.816653Z",
     "shell.execute_reply": "2022-08-01T15:22:56.815287Z"
    },
    "papermill": {
     "duration": 1.621561,
     "end_time": "2022-08-01T15:22:56.820669",
     "exception": false,
     "start_time": "2022-08-01T15:22:55.199108",
     "status": "completed"
    },
    "tags": []
   },
   "outputs": [
    {
     "name": "stdout",
     "output_type": "stream",
     "text": [
      "Validation MAE: 29,653\n",
      "\n",
      "Setup complete\n"
     ]
    }
   ],
   "source": [
    "# Code you have previously used to load data\n",
    "import pandas as pd\n",
    "from sklearn.metrics import mean_absolute_error\n",
    "from sklearn.model_selection import train_test_split\n",
    "from sklearn.tree import DecisionTreeRegressor\n",
    "\n",
    "\n",
    "# Path of the file to read\n",
    "iowa_file_path = '../input/home-data-for-ml-course/train.csv'\n",
    "\n",
    "home_data = pd.read_csv(iowa_file_path)\n",
    "# Create target object and call it y\n",
    "y = home_data.SalePrice\n",
    "# Create X\n",
    "features = ['LotArea', 'YearBuilt', '1stFlrSF', '2ndFlrSF', 'FullBath', 'BedroomAbvGr', 'TotRmsAbvGrd']\n",
    "X = home_data[features]\n",
    "\n",
    "# Split into validation and training data\n",
    "train_X, val_X, train_y, val_y = train_test_split(X, y, random_state=1)\n",
    "\n",
    "# Specify Model\n",
    "iowa_model = DecisionTreeRegressor(random_state=1)\n",
    "# Fit Model\n",
    "iowa_model.fit(train_X, train_y)\n",
    "\n",
    "# Make validation predictions and calculate mean absolute error\n",
    "val_predictions = iowa_model.predict(val_X)\n",
    "val_mae = mean_absolute_error(val_predictions, val_y)\n",
    "print(\"Validation MAE: {:,.0f}\".format(val_mae))\n",
    "\n",
    "# Set up code checking\n",
    "from learntools.core import binder\n",
    "binder.bind(globals())\n",
    "from learntools.machine_learning.ex5 import *\n",
    "print(\"\\nSetup complete\")"
   ]
  },
  {
   "cell_type": "markdown",
   "id": "94d9391e",
   "metadata": {
    "papermill": {
     "duration": 0.005897,
     "end_time": "2022-08-01T15:22:56.833270",
     "exception": false,
     "start_time": "2022-08-01T15:22:56.827373",
     "status": "completed"
    },
    "tags": []
   },
   "source": [
    "# Exercises\n",
    "You could write the function `get_mae` yourself. For now, we'll supply it. This is the same function you read about in the previous lesson. Just run the cell below."
   ]
  },
  {
   "cell_type": "code",
   "execution_count": 2,
   "id": "b3a5f782",
   "metadata": {
    "execution": {
     "iopub.execute_input": "2022-08-01T15:22:56.846477Z",
     "iopub.status.busy": "2022-08-01T15:22:56.845689Z",
     "iopub.status.idle": "2022-08-01T15:22:56.852690Z",
     "shell.execute_reply": "2022-08-01T15:22:56.851748Z"
    },
    "papermill": {
     "duration": 0.016601,
     "end_time": "2022-08-01T15:22:56.855403",
     "exception": false,
     "start_time": "2022-08-01T15:22:56.838802",
     "status": "completed"
    },
    "tags": []
   },
   "outputs": [],
   "source": [
    "def get_mae(max_leaf_nodes, train_X, val_X, train_y, val_y):\n",
    "    model = DecisionTreeRegressor(max_leaf_nodes=max_leaf_nodes, random_state=0)\n",
    "    model.fit(train_X, train_y)\n",
    "    preds_val = model.predict(val_X)\n",
    "    mae = mean_absolute_error(val_y, preds_val)\n",
    "    return(mae)"
   ]
  },
  {
   "cell_type": "markdown",
   "id": "ff37883b",
   "metadata": {
    "papermill": {
     "duration": 0.00437,
     "end_time": "2022-08-01T15:22:56.864469",
     "exception": false,
     "start_time": "2022-08-01T15:22:56.860099",
     "status": "completed"
    },
    "tags": []
   },
   "source": [
    "## Step 1: Compare Different Tree Sizes\n",
    "Write a loop that tries the following values for *max_leaf_nodes* from a set of possible values.\n",
    "\n",
    "Call the *get_mae* function on each value of max_leaf_nodes. Store the output in some way that allows you to select the value of `max_leaf_nodes` that gives the most accurate model on your data."
   ]
  },
  {
   "cell_type": "code",
   "execution_count": 3,
   "id": "b99c7d27",
   "metadata": {
    "execution": {
     "iopub.execute_input": "2022-08-01T15:22:56.876319Z",
     "iopub.status.busy": "2022-08-01T15:22:56.875200Z",
     "iopub.status.idle": "2022-08-01T15:22:56.933675Z",
     "shell.execute_reply": "2022-08-01T15:22:56.932333Z"
    },
    "papermill": {
     "duration": 0.067558,
     "end_time": "2022-08-01T15:22:56.936635",
     "exception": false,
     "start_time": "2022-08-01T15:22:56.869077",
     "status": "completed"
    },
    "tags": []
   },
   "outputs": [
    {
     "name": "stdout",
     "output_type": "stream",
     "text": [
      "100\n"
     ]
    },
    {
     "data": {
      "application/javascript": [
       "parent.postMessage({\"jupyterEvent\": \"custom.exercise_interaction\", \"data\": {\"outcomeType\": 1, \"valueTowardsCompletion\": 0.5, \"interactionType\": 1, \"questionType\": 1, \"questionId\": \"1_BestTreeSize\", \"learnToolsVersion\": \"0.3.4\", \"failureMessage\": \"\", \"exceptionClass\": \"\", \"trace\": \"\"}}, \"*\")"
      ],
      "text/plain": [
       "<IPython.core.display.Javascript object>"
      ]
     },
     "metadata": {},
     "output_type": "display_data"
    },
    {
     "data": {
      "text/markdown": [
       "<span style=\"color:#33cc33\">Correct</span>"
      ],
      "text/plain": [
       "Correct"
      ]
     },
     "metadata": {},
     "output_type": "display_data"
    }
   ],
   "source": [
    "candidate_max_leaf_nodes = [5, 25, 50, 100, 250, 500]\n",
    "# Write loop to find the ideal tree size from candidate_max_leaf_nodes\n",
    "mae_list = []\n",
    "for max_leaf_nodes in candidate_max_leaf_nodes:\n",
    "    mae_list.append(get_mae(max_leaf_nodes, train_X, val_X, train_y, val_y))\n",
    "    i = mae_list.index(min(mae_list))\n",
    "\n",
    "\n",
    "# Store the best value of max_leaf_nodes (it will be either 5, 25, 50, 100, 250 or 500)\n",
    "best_tree_size = candidate_max_leaf_nodes[i]\n",
    "print(best_tree_size)\n",
    "# Check your answer\n",
    "step_1.check()"
   ]
  },
  {
   "cell_type": "code",
   "execution_count": 4,
   "id": "e99d1e5d",
   "metadata": {
    "execution": {
     "iopub.execute_input": "2022-08-01T15:22:56.949755Z",
     "iopub.status.busy": "2022-08-01T15:22:56.948817Z",
     "iopub.status.idle": "2022-08-01T15:22:56.959383Z",
     "shell.execute_reply": "2022-08-01T15:22:56.958004Z"
    },
    "papermill": {
     "duration": 0.020264,
     "end_time": "2022-08-01T15:22:56.962191",
     "exception": false,
     "start_time": "2022-08-01T15:22:56.941927",
     "status": "completed"
    },
    "tags": []
   },
   "outputs": [
    {
     "data": {
      "application/javascript": [
       "parent.postMessage({\"jupyterEvent\": \"custom.exercise_interaction\", \"data\": {\"interactionType\": 3, \"questionType\": 1, \"questionId\": \"1_BestTreeSize\", \"learnToolsVersion\": \"0.3.4\", \"valueTowardsCompletion\": 0.0, \"failureMessage\": \"\", \"exceptionClass\": \"\", \"trace\": \"\", \"outcomeType\": 4}}, \"*\")"
      ],
      "text/plain": [
       "<IPython.core.display.Javascript object>"
      ]
     },
     "metadata": {},
     "output_type": "display_data"
    },
    {
     "data": {
      "text/markdown": [
       "<span style=\"color:#33cc99\">Solution:</span> \n",
       "```python\n",
       "# Here is a short solution with a dict comprehension.\n",
       "# The lesson gives an example of how to do this with an explicit loop.\n",
       "scores = {leaf_size: get_mae(leaf_size, train_X, val_X, train_y, val_y) for leaf_size in candidate_max_leaf_nodes}\n",
       "best_tree_size = min(scores, key=scores.get)\n",
       "\n",
       "```"
      ],
      "text/plain": [
       "Solution: \n",
       "```python\n",
       "# Here is a short solution with a dict comprehension.\n",
       "# The lesson gives an example of how to do this with an explicit loop.\n",
       "scores = {leaf_size: get_mae(leaf_size, train_X, val_X, train_y, val_y) for leaf_size in candidate_max_leaf_nodes}\n",
       "best_tree_size = min(scores, key=scores.get)\n",
       "\n",
       "```"
      ]
     },
     "metadata": {},
     "output_type": "display_data"
    }
   ],
   "source": [
    "# The lines below will show you a hint or the solution.\n",
    "# step_1.hint() \n",
    "step_1.solution()"
   ]
  },
  {
   "cell_type": "markdown",
   "id": "78030d5d",
   "metadata": {
    "papermill": {
     "duration": 0.005347,
     "end_time": "2022-08-01T15:22:56.973077",
     "exception": false,
     "start_time": "2022-08-01T15:22:56.967730",
     "status": "completed"
    },
    "tags": []
   },
   "source": [
    "## Step 2: Fit Model Using All Data\n",
    "You know the best tree size. If you were going to deploy this model in practice, you would make it even more accurate by using all of the data and keeping that tree size.  That is, you don't need to hold out the validation data now that you've made all your modeling decisions."
   ]
  },
  {
   "cell_type": "code",
   "execution_count": 5,
   "id": "bac067b8",
   "metadata": {
    "execution": {
     "iopub.execute_input": "2022-08-01T15:22:56.986790Z",
     "iopub.status.busy": "2022-08-01T15:22:56.985921Z",
     "iopub.status.idle": "2022-08-01T15:22:56.996802Z",
     "shell.execute_reply": "2022-08-01T15:22:56.995548Z"
    },
    "papermill": {
     "duration": 0.020747,
     "end_time": "2022-08-01T15:22:56.999461",
     "exception": false,
     "start_time": "2022-08-01T15:22:56.978714",
     "status": "completed"
    },
    "tags": []
   },
   "outputs": [
    {
     "data": {
      "application/javascript": [
       "parent.postMessage({\"jupyterEvent\": \"custom.exercise_interaction\", \"data\": {\"outcomeType\": 2, \"failureMessage\": \"You still need to define the following variables: `final_model`\", \"interactionType\": 1, \"questionType\": 2, \"questionId\": \"2_FitModelWithAllData\", \"learnToolsVersion\": \"0.3.4\", \"valueTowardsCompletion\": 0.0, \"exceptionClass\": \"\", \"trace\": \"\"}}, \"*\")"
      ],
      "text/plain": [
       "<IPython.core.display.Javascript object>"
      ]
     },
     "metadata": {},
     "output_type": "display_data"
    },
    {
     "data": {
      "text/markdown": [
       "<span style=\"color:#cc3333\">Incorrect:</span> You still need to define the following variables: `final_model`"
      ],
      "text/plain": [
       "Incorrect: You still need to define the following variables: `final_model`"
      ]
     },
     "metadata": {},
     "output_type": "display_data"
    }
   ],
   "source": [
    "# Fill in argument to make optimal size and uncomment\n",
    "# final_model = DecisionTreeRegressor(____)\n",
    "\n",
    "# fit the final model and uncomment the next two lines\n",
    "# final_model.fit(____, ____)\n",
    "\n",
    "# Check your answer\n",
    "step_2.check()"
   ]
  },
  {
   "cell_type": "code",
   "execution_count": 6,
   "id": "5ac17050",
   "metadata": {
    "execution": {
     "iopub.execute_input": "2022-08-01T15:22:57.015608Z",
     "iopub.status.busy": "2022-08-01T15:22:57.014715Z",
     "iopub.status.idle": "2022-08-01T15:22:57.020140Z",
     "shell.execute_reply": "2022-08-01T15:22:57.019163Z"
    },
    "papermill": {
     "duration": 0.017301,
     "end_time": "2022-08-01T15:22:57.022896",
     "exception": false,
     "start_time": "2022-08-01T15:22:57.005595",
     "status": "completed"
    },
    "tags": []
   },
   "outputs": [],
   "source": [
    "# step_2.hint()\n",
    "# step_2.solution()"
   ]
  },
  {
   "cell_type": "markdown",
   "id": "3ec4b0da",
   "metadata": {
    "papermill": {
     "duration": 0.006248,
     "end_time": "2022-08-01T15:22:57.035217",
     "exception": false,
     "start_time": "2022-08-01T15:22:57.028969",
     "status": "completed"
    },
    "tags": []
   },
   "source": [
    "You've tuned this model and improved your results. But we are still using Decision Tree models, which are not very sophisticated by modern machine learning standards. In the next step you will learn to use Random Forests to improve your models even more.\n",
    "\n",
    "# Keep Going\n",
    "\n",
    "You are ready for **[Random Forests](https://www.kaggle.com/dansbecker/random-forests).**\n"
   ]
  },
  {
   "cell_type": "markdown",
   "id": "69131285",
   "metadata": {
    "papermill": {
     "duration": 0.00587,
     "end_time": "2022-08-01T15:22:57.047302",
     "exception": false,
     "start_time": "2022-08-01T15:22:57.041432",
     "status": "completed"
    },
    "tags": []
   },
   "source": [
    "---\n",
    "\n",
    "\n",
    "\n",
    "\n",
    "*Have questions or comments? Visit the [course discussion forum](https://www.kaggle.com/learn/intro-to-machine-learning/discussion) to chat with other learners.*"
   ]
  }
 ],
 "metadata": {
  "kernelspec": {
   "display_name": "Python 3",
   "language": "python",
   "name": "python3"
  },
  "language_info": {
   "codemirror_mode": {
    "name": "ipython",
    "version": 3
   },
   "file_extension": ".py",
   "mimetype": "text/x-python",
   "name": "python",
   "nbconvert_exporter": "python",
   "pygments_lexer": "ipython3",
   "version": "3.7.12"
  },
  "papermill": {
   "default_parameters": {},
   "duration": 14.808982,
   "end_time": "2022-08-01T15:22:57.877360",
   "environment_variables": {},
   "exception": null,
   "input_path": "__notebook__.ipynb",
   "output_path": "__notebook__.ipynb",
   "parameters": {},
   "start_time": "2022-08-01T15:22:43.068378",
   "version": "2.3.4"
  }
 },
 "nbformat": 4,
 "nbformat_minor": 5
}
